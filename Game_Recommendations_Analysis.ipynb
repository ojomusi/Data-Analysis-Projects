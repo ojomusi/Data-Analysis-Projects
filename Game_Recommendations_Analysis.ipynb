{
  "cells": [
    {
      "cell_type": "markdown",
      "source": [
        "## BA 476 Project Group 9\n",
        "### Game Recommendations\n",
        "\n",
        "Data:\n",
        "\n",
        "\n",
        "*   [Kaggle Link](https://www.kaggle.com/datasets/antonkozyriev/game-recommendations-on-steam)\n",
        "*   [Merged Zip Data](https://drive.google.com/file/d/1wqaaLRKbC3wiUQ7Nq9wjVjxD9LIGv3rc/view?usp=drive_link)\n",
        "*   [Downsampled Final Data CSV](https://drive.google.com/file/d/1dWDxnrCRq0L-XVi0Ake0JcI5u24HQbXI/view?usp=drive_link)\n",
        "\n"
      ],
      "metadata": {
        "id": "kZ4X7hlXglQ5"
      }
    },
    {
      "cell_type": "code",
      "execution_count": null,
      "metadata": {
        "id": "NxaZfW4vXk_y"
      },
      "outputs": [],
      "source": [
        "import kagglehub\n",
        "import pandas as pd\n",
        "import numpy as np\n",
        "import matplotlib.pyplot as plt\n",
        "import seaborn as sns\n",
        "from sklearn.model_selection import train_test_split\n",
        "from sklearn.metrics import mean_squared_error\n",
        "from sklearn.linear_model import LinearRegression\n",
        "from sklearn.feature_selection import SequentialFeatureSelector\n",
        "from sklearn.model_selection import cross_val_score\n",
        "from sklearn.linear_model import Ridge\n",
        "from sklearn.preprocessing import StandardScaler\n",
        "from sklearn.metrics import r2_score\n",
        "from sklearn.model_selection import GridSearchCV\n",
        "from sklearn.linear_model import Lasso\n",
        "from sklearn.pipeline import make_pipeline\n",
        "from sklearn.linear_model import ElasticNet\n",
        "from sklearn.linear_model import LogisticRegression\n",
        "from sklearn.ensemble import RandomForestClassifier\n",
        "from sklearn.metrics import accuracy_score"
      ]
    },
    {
      "cell_type": "code",
      "execution_count": null,
      "metadata": {
        "colab": {
          "base_uri": "https://localhost:8080/"
        },
        "id": "jcsasriLX1qP",
        "outputId": "61aa1668-8f55-44cf-a427-503504594695"
      },
      "outputs": [
        {
          "output_type": "stream",
          "name": "stdout",
          "text": [
            "Mounted at /content/drive\n"
          ]
        }
      ],
      "source": [
        "#google drive upload\n",
        "from google.colab import drive\n",
        "drive.mount('/content/drive')"
      ]
    },
    {
      "cell_type": "markdown",
      "metadata": {
        "id": "cNHdmjwvzCQY"
      },
      "source": [
        "## Data Engineering\n",
        "- Merge the 3 tables ✅\n",
        "- Find a representitive sample for this project ✅"
      ]
    },
    {
      "cell_type": "code",
      "source": [
        "# '''\n",
        "# Merging games, recommendations, and users dataframes based on common columns\n",
        "# 1. games.csv - app_id (primary key)\n",
        "# 2. recommendations.csv - app_id (foreign key), user_id (foreign key)\n",
        "# 3. users.csv - user_id (primary key)\n",
        "# '''\n",
        "\n",
        "# #check null values specifically in the primary/foreign key columns for all 3 datasets\n",
        "# print(games.isnull().sum())\n",
        "# print(recommendations.isnull().sum())\n",
        "# print(users.isnull().sum())\n",
        "\n",
        "# # Great! We have no null values in our primary/foreign key columns so let's proceed with merging the data\n",
        "\n",
        "# '''\n",
        "# Disclaimer: This code block can not be run on Google Collab due to the large dataset (40+ Million rows)\n",
        "\n",
        "# Solution: Ran this code locally (Dell XPS) on VS code and exported as a csv\n",
        "\n",
        "# The rest of this notebook will use this new csv file called 'merged_games.csv'\n",
        "# '''\n",
        "\n",
        "\n",
        "# # merged_df = pd.merge(games, recommendations, on='app_id', how='inner')\n",
        "# # merged_df = pd.merge(merged_df, users, on='user_id', how='inner')\n",
        "# # merged_df.to_csv('merged_games.csv', index=False)"
      ],
      "metadata": {
        "id": "dDYU1zbFXEjb"
      },
      "execution_count": null,
      "outputs": []
    },
    {
      "cell_type": "markdown",
      "metadata": {
        "id": "B-_7e9Lw8cfC"
      },
      "source": [
        "The merged data is very large therefore we will opt a stratified sampling strategy to reduce the runtime and work with a smaller dataset.  "
      ]
    },
    {
      "cell_type": "markdown",
      "metadata": {
        "id": "ehXSZwoXABZu"
      },
      "source": [
        "### Stratified Sampling"
      ]
    },
    {
      "cell_type": "markdown",
      "metadata": {
        "id": "3CdAVG5sAOO4"
      },
      "source": [
        "#### Methodology:   \n",
        "\n",
        "*   `game_sample`: We first randomly sample games that are above the 95th percentile in number of reviews  to get a diverse set of games.\n",
        "*   `filtered_df`: We filter the dataset to include only the rows corresponding to the selected games.\n",
        "*   `groupby('is_recommended')`: We stratify the sample by the `is_recommended` column, ensuring that we have both recommended and non-recommended reviews. We use the frac=0.5 argument to take 50% from each group.\n",
        "*   `reset_index(drop=True)`: After grouping and applying the sampling, we reset the index to ensure a clean DataFrame."
      ]
    },
    {
      "cell_type": "code",
      "execution_count": null,
      "metadata": {
        "id": "0MJQYek8AAn0"
      },
      "outputs": [],
      "source": [
        "# # Sample a fraction of games\n",
        "# game_sample = popular_games['app_id']\n",
        "\n",
        "# # Now filter the DataFrame to only include the sampled games\n",
        "# filtered_df = merged[merged['app_id'].isin(game_sample)]\n",
        "\n",
        "# # Perform stratified sampling based on the 'is_recommended' column\n",
        "# # This ensures we have equal representation of recommended and not recommended reviews\n",
        "# sampled_df = filtered_df.groupby('is_recommended').apply(\n",
        "#     lambda x: x.sample(frac=0.5, random_state=42)\n",
        "# ).reset_index(drop=True)\n",
        "\n",
        "# # Check the resulting sampled DataFrame\n",
        "# display(sampled_df['is_recommended'].value_counts())\n",
        "# display(sampled_df.head())\n"
      ]
    },
    {
      "cell_type": "code",
      "execution_count": null,
      "metadata": {
        "id": "jZkdNGxk5--m"
      },
      "outputs": [],
      "source": [
        "# sampled_df_reduced = sampled_df.groupby('is_recommended').apply(\n",
        "#     lambda x: x.sample(frac=0.0025, random_state=42)\n",
        "# ).reset_index(drop=True)\n",
        "\n",
        "# # Check the resulting sampled DataFrame and value counts\n",
        "# display(sampled_df_reduced['is_recommended'].value_counts())\n",
        "# display(sampled_df_reduced.head())"
      ]
    },
    {
      "cell_type": "code",
      "execution_count": null,
      "metadata": {
        "id": "3o6pkj4A9_R1"
      },
      "outputs": [],
      "source": [
        "# # Find the number of samples to draw from each class\n",
        "# min_count = sampled_df_reduced['is_recommended'].value_counts().min()\n",
        "\n",
        "# # Perform balanced sampling\n",
        "# sampled_df_reduced = sampled_df_reduced.groupby('is_recommended').apply(\n",
        "#     lambda x: x.sample(n=min_count, random_state=42)\n",
        "# ).reset_index(drop=True)\n",
        "\n",
        "# # Display the balanced sampled DataFrame\n",
        "# display(sampled_df_reduced['is_recommended'].value_counts())\n",
        "# display(sampled_df_reduced.head())\n",
        "# sampled_df_reduced.to_csv('sampled_df_reduced.csv', index=False)"
      ]
    },
    {
      "cell_type": "markdown",
      "source": [
        "## Sampled Data Loading"
      ],
      "metadata": {
        "id": "G5eDG6tx3oPx"
      }
    },
    {
      "cell_type": "code",
      "execution_count": null,
      "metadata": {
        "id": "Uqq7NhAz6Hqo"
      },
      "outputs": [],
      "source": [
        "# sampled_df_reduced = pd.read_csv('sampled_df_reduced.csv')\n",
        "sampled_df_reduced = pd.read_csv('/content/drive/MyDrive/sampled_df_reduced.csv')"
      ]
    },
    {
      "cell_type": "code",
      "execution_count": null,
      "metadata": {
        "colab": {
          "base_uri": "https://localhost:8080/"
        },
        "id": "EkXzSy-vI-ry",
        "outputId": "b97d995b-041e-4be2-974f-1c80c726e4a8"
      },
      "outputs": [
        {
          "output_type": "stream",
          "name": "stdout",
          "text": [
            "is_recommended\n",
            "False    57679\n",
            "True     57679\n",
            "Name: count, dtype: int64\n",
            "<class 'pandas.core.frame.DataFrame'>\n",
            "RangeIndex: 115358 entries, 0 to 115357\n",
            "Data columns (total 22 columns):\n",
            " #   Column          Non-Null Count   Dtype  \n",
            "---  ------          --------------   -----  \n",
            " 0   app_id          115358 non-null  int64  \n",
            " 1   title           115358 non-null  object \n",
            " 2   date_release    115358 non-null  object \n",
            " 3   win             115358 non-null  bool   \n",
            " 4   mac             115358 non-null  bool   \n",
            " 5   linux           115358 non-null  bool   \n",
            " 6   rating          115358 non-null  object \n",
            " 7   positive_ratio  115358 non-null  int64  \n",
            " 8   user_reviews    115358 non-null  int64  \n",
            " 9   price_final     115358 non-null  float64\n",
            " 10  price_original  115358 non-null  float64\n",
            " 11  discount        115358 non-null  float64\n",
            " 12  steam_deck      115358 non-null  bool   \n",
            " 13  helpful         115358 non-null  int64  \n",
            " 14  funny           115358 non-null  int64  \n",
            " 15  date            115358 non-null  object \n",
            " 16  is_recommended  115358 non-null  bool   \n",
            " 17  hours           115358 non-null  float64\n",
            " 18  user_id         115358 non-null  int64  \n",
            " 19  review_id       115358 non-null  int64  \n",
            " 20  products        115358 non-null  int64  \n",
            " 21  reviews         115358 non-null  int64  \n",
            "dtypes: bool(5), float64(4), int64(9), object(4)\n",
            "memory usage: 15.5+ MB\n"
          ]
        }
      ],
      "source": [
        "print(sampled_df_reduced['is_recommended'].value_counts())\n",
        "sampled_df_reduced.info()"
      ]
    },
    {
      "cell_type": "code",
      "source": [
        "sampled_df_reduced.head()"
      ],
      "metadata": {
        "colab": {
          "base_uri": "https://localhost:8080/",
          "height": 360
        },
        "id": "2_gWHk4aloSO",
        "outputId": "3434c66d-ec49-44fc-b250-a769c2718dc5"
      },
      "execution_count": null,
      "outputs": [
        {
          "output_type": "execute_result",
          "data": {
            "text/plain": [
              "   app_id                  title date_release   win    mac  linux  \\\n",
              "0  387990         Scrap Mechanic   2016-01-19  True  False  False   \n",
              "1  504370             Battlerite   2017-11-08  True  False  False   \n",
              "2  333930            Dirty Bomb®   2015-06-01  True  False  False   \n",
              "3  252490                   Rust   2018-02-08  True   True  False   \n",
              "4  322330  Don't Starve Together   2016-04-21  True   True   True   \n",
              "\n",
              "                    rating  positive_ratio  user_reviews  price_final  ...  \\\n",
              "0            Very Positive              93         90219         20.0  ...   \n",
              "1            Very Positive              84         58661          0.0  ...   \n",
              "2            Very Positive              81         57915          0.0  ...   \n",
              "3            Very Positive              87        786668         40.0  ...   \n",
              "4  Overwhelmingly Positive              95        280962         15.0  ...   \n",
              "\n",
              "   steam_deck  helpful  funny        date  is_recommended  hours   user_id  \\\n",
              "0        True        0      0  2017-03-28           False   11.2   9662245   \n",
              "1        True        0      0  2021-04-24           False    2.6   2820494   \n",
              "2        True        0      0  2015-07-02           False   89.0   1859002   \n",
              "3        True        0      0  2021-09-17           False  181.4  10895362   \n",
              "4        True        0      0  2020-05-17           False  320.9  10270107   \n",
              "\n",
              "   review_id  products  reviews  \n",
              "0    7636434         0        1  \n",
              "1   33234095         8        2  \n",
              "2   27930415       930        4  \n",
              "3    3393198        13        1  \n",
              "4   33594603        24        6  \n",
              "\n",
              "[5 rows x 22 columns]"
            ],
            "text/html": [
              "\n",
              "  <div id=\"df-462e9bc5-4a43-4e55-b87e-4f12f6617496\" class=\"colab-df-container\">\n",
              "    <div>\n",
              "<style scoped>\n",
              "    .dataframe tbody tr th:only-of-type {\n",
              "        vertical-align: middle;\n",
              "    }\n",
              "\n",
              "    .dataframe tbody tr th {\n",
              "        vertical-align: top;\n",
              "    }\n",
              "\n",
              "    .dataframe thead th {\n",
              "        text-align: right;\n",
              "    }\n",
              "</style>\n",
              "<table border=\"1\" class=\"dataframe\">\n",
              "  <thead>\n",
              "    <tr style=\"text-align: right;\">\n",
              "      <th></th>\n",
              "      <th>app_id</th>\n",
              "      <th>title</th>\n",
              "      <th>date_release</th>\n",
              "      <th>win</th>\n",
              "      <th>mac</th>\n",
              "      <th>linux</th>\n",
              "      <th>rating</th>\n",
              "      <th>positive_ratio</th>\n",
              "      <th>user_reviews</th>\n",
              "      <th>price_final</th>\n",
              "      <th>...</th>\n",
              "      <th>steam_deck</th>\n",
              "      <th>helpful</th>\n",
              "      <th>funny</th>\n",
              "      <th>date</th>\n",
              "      <th>is_recommended</th>\n",
              "      <th>hours</th>\n",
              "      <th>user_id</th>\n",
              "      <th>review_id</th>\n",
              "      <th>products</th>\n",
              "      <th>reviews</th>\n",
              "    </tr>\n",
              "  </thead>\n",
              "  <tbody>\n",
              "    <tr>\n",
              "      <th>0</th>\n",
              "      <td>387990</td>\n",
              "      <td>Scrap Mechanic</td>\n",
              "      <td>2016-01-19</td>\n",
              "      <td>True</td>\n",
              "      <td>False</td>\n",
              "      <td>False</td>\n",
              "      <td>Very Positive</td>\n",
              "      <td>93</td>\n",
              "      <td>90219</td>\n",
              "      <td>20.0</td>\n",
              "      <td>...</td>\n",
              "      <td>True</td>\n",
              "      <td>0</td>\n",
              "      <td>0</td>\n",
              "      <td>2017-03-28</td>\n",
              "      <td>False</td>\n",
              "      <td>11.2</td>\n",
              "      <td>9662245</td>\n",
              "      <td>7636434</td>\n",
              "      <td>0</td>\n",
              "      <td>1</td>\n",
              "    </tr>\n",
              "    <tr>\n",
              "      <th>1</th>\n",
              "      <td>504370</td>\n",
              "      <td>Battlerite</td>\n",
              "      <td>2017-11-08</td>\n",
              "      <td>True</td>\n",
              "      <td>False</td>\n",
              "      <td>False</td>\n",
              "      <td>Very Positive</td>\n",
              "      <td>84</td>\n",
              "      <td>58661</td>\n",
              "      <td>0.0</td>\n",
              "      <td>...</td>\n",
              "      <td>True</td>\n",
              "      <td>0</td>\n",
              "      <td>0</td>\n",
              "      <td>2021-04-24</td>\n",
              "      <td>False</td>\n",
              "      <td>2.6</td>\n",
              "      <td>2820494</td>\n",
              "      <td>33234095</td>\n",
              "      <td>8</td>\n",
              "      <td>2</td>\n",
              "    </tr>\n",
              "    <tr>\n",
              "      <th>2</th>\n",
              "      <td>333930</td>\n",
              "      <td>Dirty Bomb®</td>\n",
              "      <td>2015-06-01</td>\n",
              "      <td>True</td>\n",
              "      <td>False</td>\n",
              "      <td>False</td>\n",
              "      <td>Very Positive</td>\n",
              "      <td>81</td>\n",
              "      <td>57915</td>\n",
              "      <td>0.0</td>\n",
              "      <td>...</td>\n",
              "      <td>True</td>\n",
              "      <td>0</td>\n",
              "      <td>0</td>\n",
              "      <td>2015-07-02</td>\n",
              "      <td>False</td>\n",
              "      <td>89.0</td>\n",
              "      <td>1859002</td>\n",
              "      <td>27930415</td>\n",
              "      <td>930</td>\n",
              "      <td>4</td>\n",
              "    </tr>\n",
              "    <tr>\n",
              "      <th>3</th>\n",
              "      <td>252490</td>\n",
              "      <td>Rust</td>\n",
              "      <td>2018-02-08</td>\n",
              "      <td>True</td>\n",
              "      <td>True</td>\n",
              "      <td>False</td>\n",
              "      <td>Very Positive</td>\n",
              "      <td>87</td>\n",
              "      <td>786668</td>\n",
              "      <td>40.0</td>\n",
              "      <td>...</td>\n",
              "      <td>True</td>\n",
              "      <td>0</td>\n",
              "      <td>0</td>\n",
              "      <td>2021-09-17</td>\n",
              "      <td>False</td>\n",
              "      <td>181.4</td>\n",
              "      <td>10895362</td>\n",
              "      <td>3393198</td>\n",
              "      <td>13</td>\n",
              "      <td>1</td>\n",
              "    </tr>\n",
              "    <tr>\n",
              "      <th>4</th>\n",
              "      <td>322330</td>\n",
              "      <td>Don't Starve Together</td>\n",
              "      <td>2016-04-21</td>\n",
              "      <td>True</td>\n",
              "      <td>True</td>\n",
              "      <td>True</td>\n",
              "      <td>Overwhelmingly Positive</td>\n",
              "      <td>95</td>\n",
              "      <td>280962</td>\n",
              "      <td>15.0</td>\n",
              "      <td>...</td>\n",
              "      <td>True</td>\n",
              "      <td>0</td>\n",
              "      <td>0</td>\n",
              "      <td>2020-05-17</td>\n",
              "      <td>False</td>\n",
              "      <td>320.9</td>\n",
              "      <td>10270107</td>\n",
              "      <td>33594603</td>\n",
              "      <td>24</td>\n",
              "      <td>6</td>\n",
              "    </tr>\n",
              "  </tbody>\n",
              "</table>\n",
              "<p>5 rows × 22 columns</p>\n",
              "</div>\n",
              "    <div class=\"colab-df-buttons\">\n",
              "\n",
              "  <div class=\"colab-df-container\">\n",
              "    <button class=\"colab-df-convert\" onclick=\"convertToInteractive('df-462e9bc5-4a43-4e55-b87e-4f12f6617496')\"\n",
              "            title=\"Convert this dataframe to an interactive table.\"\n",
              "            style=\"display:none;\">\n",
              "\n",
              "  <svg xmlns=\"http://www.w3.org/2000/svg\" height=\"24px\" viewBox=\"0 -960 960 960\">\n",
              "    <path d=\"M120-120v-720h720v720H120Zm60-500h600v-160H180v160Zm220 220h160v-160H400v160Zm0 220h160v-160H400v160ZM180-400h160v-160H180v160Zm440 0h160v-160H620v160ZM180-180h160v-160H180v160Zm440 0h160v-160H620v160Z\"/>\n",
              "  </svg>\n",
              "    </button>\n",
              "\n",
              "  <style>\n",
              "    .colab-df-container {\n",
              "      display:flex;\n",
              "      gap: 12px;\n",
              "    }\n",
              "\n",
              "    .colab-df-convert {\n",
              "      background-color: #E8F0FE;\n",
              "      border: none;\n",
              "      border-radius: 50%;\n",
              "      cursor: pointer;\n",
              "      display: none;\n",
              "      fill: #1967D2;\n",
              "      height: 32px;\n",
              "      padding: 0 0 0 0;\n",
              "      width: 32px;\n",
              "    }\n",
              "\n",
              "    .colab-df-convert:hover {\n",
              "      background-color: #E2EBFA;\n",
              "      box-shadow: 0px 1px 2px rgba(60, 64, 67, 0.3), 0px 1px 3px 1px rgba(60, 64, 67, 0.15);\n",
              "      fill: #174EA6;\n",
              "    }\n",
              "\n",
              "    .colab-df-buttons div {\n",
              "      margin-bottom: 4px;\n",
              "    }\n",
              "\n",
              "    [theme=dark] .colab-df-convert {\n",
              "      background-color: #3B4455;\n",
              "      fill: #D2E3FC;\n",
              "    }\n",
              "\n",
              "    [theme=dark] .colab-df-convert:hover {\n",
              "      background-color: #434B5C;\n",
              "      box-shadow: 0px 1px 3px 1px rgba(0, 0, 0, 0.15);\n",
              "      filter: drop-shadow(0px 1px 2px rgba(0, 0, 0, 0.3));\n",
              "      fill: #FFFFFF;\n",
              "    }\n",
              "  </style>\n",
              "\n",
              "    <script>\n",
              "      const buttonEl =\n",
              "        document.querySelector('#df-462e9bc5-4a43-4e55-b87e-4f12f6617496 button.colab-df-convert');\n",
              "      buttonEl.style.display =\n",
              "        google.colab.kernel.accessAllowed ? 'block' : 'none';\n",
              "\n",
              "      async function convertToInteractive(key) {\n",
              "        const element = document.querySelector('#df-462e9bc5-4a43-4e55-b87e-4f12f6617496');\n",
              "        const dataTable =\n",
              "          await google.colab.kernel.invokeFunction('convertToInteractive',\n",
              "                                                    [key], {});\n",
              "        if (!dataTable) return;\n",
              "\n",
              "        const docLinkHtml = 'Like what you see? Visit the ' +\n",
              "          '<a target=\"_blank\" href=https://colab.research.google.com/notebooks/data_table.ipynb>data table notebook</a>'\n",
              "          + ' to learn more about interactive tables.';\n",
              "        element.innerHTML = '';\n",
              "        dataTable['output_type'] = 'display_data';\n",
              "        await google.colab.output.renderOutput(dataTable, element);\n",
              "        const docLink = document.createElement('div');\n",
              "        docLink.innerHTML = docLinkHtml;\n",
              "        element.appendChild(docLink);\n",
              "      }\n",
              "    </script>\n",
              "  </div>\n",
              "\n",
              "\n",
              "    <div id=\"df-aa959f62-8dc7-4318-be23-03be44ae5c8d\">\n",
              "      <button class=\"colab-df-quickchart\" onclick=\"quickchart('df-aa959f62-8dc7-4318-be23-03be44ae5c8d')\"\n",
              "                title=\"Suggest charts\"\n",
              "                style=\"display:none;\">\n",
              "\n",
              "<svg xmlns=\"http://www.w3.org/2000/svg\" height=\"24px\"viewBox=\"0 0 24 24\"\n",
              "     width=\"24px\">\n",
              "    <g>\n",
              "        <path d=\"M19 3H5c-1.1 0-2 .9-2 2v14c0 1.1.9 2 2 2h14c1.1 0 2-.9 2-2V5c0-1.1-.9-2-2-2zM9 17H7v-7h2v7zm4 0h-2V7h2v10zm4 0h-2v-4h2v4z\"/>\n",
              "    </g>\n",
              "</svg>\n",
              "      </button>\n",
              "\n",
              "<style>\n",
              "  .colab-df-quickchart {\n",
              "      --bg-color: #E8F0FE;\n",
              "      --fill-color: #1967D2;\n",
              "      --hover-bg-color: #E2EBFA;\n",
              "      --hover-fill-color: #174EA6;\n",
              "      --disabled-fill-color: #AAA;\n",
              "      --disabled-bg-color: #DDD;\n",
              "  }\n",
              "\n",
              "  [theme=dark] .colab-df-quickchart {\n",
              "      --bg-color: #3B4455;\n",
              "      --fill-color: #D2E3FC;\n",
              "      --hover-bg-color: #434B5C;\n",
              "      --hover-fill-color: #FFFFFF;\n",
              "      --disabled-bg-color: #3B4455;\n",
              "      --disabled-fill-color: #666;\n",
              "  }\n",
              "\n",
              "  .colab-df-quickchart {\n",
              "    background-color: var(--bg-color);\n",
              "    border: none;\n",
              "    border-radius: 50%;\n",
              "    cursor: pointer;\n",
              "    display: none;\n",
              "    fill: var(--fill-color);\n",
              "    height: 32px;\n",
              "    padding: 0;\n",
              "    width: 32px;\n",
              "  }\n",
              "\n",
              "  .colab-df-quickchart:hover {\n",
              "    background-color: var(--hover-bg-color);\n",
              "    box-shadow: 0 1px 2px rgba(60, 64, 67, 0.3), 0 1px 3px 1px rgba(60, 64, 67, 0.15);\n",
              "    fill: var(--button-hover-fill-color);\n",
              "  }\n",
              "\n",
              "  .colab-df-quickchart-complete:disabled,\n",
              "  .colab-df-quickchart-complete:disabled:hover {\n",
              "    background-color: var(--disabled-bg-color);\n",
              "    fill: var(--disabled-fill-color);\n",
              "    box-shadow: none;\n",
              "  }\n",
              "\n",
              "  .colab-df-spinner {\n",
              "    border: 2px solid var(--fill-color);\n",
              "    border-color: transparent;\n",
              "    border-bottom-color: var(--fill-color);\n",
              "    animation:\n",
              "      spin 1s steps(1) infinite;\n",
              "  }\n",
              "\n",
              "  @keyframes spin {\n",
              "    0% {\n",
              "      border-color: transparent;\n",
              "      border-bottom-color: var(--fill-color);\n",
              "      border-left-color: var(--fill-color);\n",
              "    }\n",
              "    20% {\n",
              "      border-color: transparent;\n",
              "      border-left-color: var(--fill-color);\n",
              "      border-top-color: var(--fill-color);\n",
              "    }\n",
              "    30% {\n",
              "      border-color: transparent;\n",
              "      border-left-color: var(--fill-color);\n",
              "      border-top-color: var(--fill-color);\n",
              "      border-right-color: var(--fill-color);\n",
              "    }\n",
              "    40% {\n",
              "      border-color: transparent;\n",
              "      border-right-color: var(--fill-color);\n",
              "      border-top-color: var(--fill-color);\n",
              "    }\n",
              "    60% {\n",
              "      border-color: transparent;\n",
              "      border-right-color: var(--fill-color);\n",
              "    }\n",
              "    80% {\n",
              "      border-color: transparent;\n",
              "      border-right-color: var(--fill-color);\n",
              "      border-bottom-color: var(--fill-color);\n",
              "    }\n",
              "    90% {\n",
              "      border-color: transparent;\n",
              "      border-bottom-color: var(--fill-color);\n",
              "    }\n",
              "  }\n",
              "</style>\n",
              "\n",
              "      <script>\n",
              "        async function quickchart(key) {\n",
              "          const quickchartButtonEl =\n",
              "            document.querySelector('#' + key + ' button');\n",
              "          quickchartButtonEl.disabled = true;  // To prevent multiple clicks.\n",
              "          quickchartButtonEl.classList.add('colab-df-spinner');\n",
              "          try {\n",
              "            const charts = await google.colab.kernel.invokeFunction(\n",
              "                'suggestCharts', [key], {});\n",
              "          } catch (error) {\n",
              "            console.error('Error during call to suggestCharts:', error);\n",
              "          }\n",
              "          quickchartButtonEl.classList.remove('colab-df-spinner');\n",
              "          quickchartButtonEl.classList.add('colab-df-quickchart-complete');\n",
              "        }\n",
              "        (() => {\n",
              "          let quickchartButtonEl =\n",
              "            document.querySelector('#df-aa959f62-8dc7-4318-be23-03be44ae5c8d button');\n",
              "          quickchartButtonEl.style.display =\n",
              "            google.colab.kernel.accessAllowed ? 'block' : 'none';\n",
              "        })();\n",
              "      </script>\n",
              "    </div>\n",
              "\n",
              "    </div>\n",
              "  </div>\n"
            ],
            "application/vnd.google.colaboratory.intrinsic+json": {
              "type": "dataframe",
              "variable_name": "sampled_df_reduced"
            }
          },
          "metadata": {},
          "execution_count": 9
        }
      ]
    },
    {
      "cell_type": "markdown",
      "source": [
        "## Feature Engineering\n",
        "\n",
        "\n",
        "*   Create dummy variables for `rating`"
      ],
      "metadata": {
        "id": "rY0gvXOF3bk8"
      }
    },
    {
      "cell_type": "code",
      "source": [
        "print(f\"We have {len(sampled_df_reduced['rating'].unique())} unique ratings\")\n",
        "print(sampled_df_reduced['rating'].unique())"
      ],
      "metadata": {
        "colab": {
          "base_uri": "https://localhost:8080/"
        },
        "id": "jaBKao7emQTG",
        "outputId": "cffafbe9-60af-4525-cbe6-7dc9c9ad0f9d"
      },
      "execution_count": null,
      "outputs": [
        {
          "output_type": "stream",
          "name": "stdout",
          "text": [
            "We have 6 unique ratings\n",
            "['Very Positive' 'Overwhelmingly Positive' 'Mixed' 'Mostly Positive'\n",
            " 'Overwhelmingly Negative' 'Mostly Negative']\n"
          ]
        }
      ]
    },
    {
      "cell_type": "code",
      "source": [
        "# create dummies for 'rating'\n",
        "dummy_df = pd.get_dummies(sampled_df_reduced[\"rating\"], prefix=\"rating\")\n",
        "\n",
        "# remove the original 'rating' column\n",
        "sampled_df_reduced = sampled_df_reduced.drop(\"rating\", axis=1)\n",
        "\n",
        "# join the dummy variables back to the original DataFrame\n",
        "sampled_df_reduced = pd.concat([sampled_df_reduced, dummy_df], axis=1)"
      ],
      "metadata": {
        "id": "2mPpOcmYn4id"
      },
      "execution_count": null,
      "outputs": []
    },
    {
      "cell_type": "code",
      "source": [
        "# Convert 'date_release' and 'date' to datetime format\n",
        "sampled_df_reduced['date_release'] = pd.to_datetime(sampled_df_reduced['date_release'])\n",
        "sampled_df_reduced['date'] = pd.to_datetime(sampled_df_reduced['date'])\n",
        "\n",
        "# Create a new column with the difference in dates\n",
        "sampled_df_reduced['date_diff'] = sampled_df_reduced['date'] - sampled_df_reduced['date_release']\n",
        "\n",
        "sampled_df_reduced['date_diff_days'] = sampled_df_reduced['date_diff'].dt.days # this column will represent the number of days the review was made after the game was released\n",
        "\n",
        "# remove the original 'date_diff', 'date' and 'date_release' column\n",
        "sampled_df_reduced = sampled_df_reduced.drop(columns=['date', 'date_release', 'date_diff'], axis=1)\n",
        "\n",
        "sampled_df_reduced.head()"
      ],
      "metadata": {
        "colab": {
          "base_uri": "https://localhost:8080/",
          "height": 342
        },
        "id": "lLan_EJhrcQ3",
        "outputId": "152affcd-0059-473f-a5c7-7e0dff85966d"
      },
      "execution_count": null,
      "outputs": [
        {
          "output_type": "execute_result",
          "data": {
            "text/plain": [
              "   app_id                  title   win    mac  linux  positive_ratio  \\\n",
              "0  387990         Scrap Mechanic  True  False  False              93   \n",
              "1  504370             Battlerite  True  False  False              84   \n",
              "2  333930            Dirty Bomb®  True  False  False              81   \n",
              "3  252490                   Rust  True   True  False              87   \n",
              "4  322330  Don't Starve Together  True   True   True              95   \n",
              "\n",
              "   user_reviews  price_final  price_original  discount  ...  review_id  \\\n",
              "0         90219         20.0             0.0       0.0  ...    7636434   \n",
              "1         58661          0.0             0.0       0.0  ...   33234095   \n",
              "2         57915          0.0             0.0       0.0  ...   27930415   \n",
              "3        786668         40.0             0.0       0.0  ...    3393198   \n",
              "4        280962         15.0             0.0       0.0  ...   33594603   \n",
              "\n",
              "   products  reviews  rating_Mixed  rating_Mostly Negative  \\\n",
              "0         0        1         False                   False   \n",
              "1         8        2         False                   False   \n",
              "2       930        4         False                   False   \n",
              "3        13        1         False                   False   \n",
              "4        24        6         False                   False   \n",
              "\n",
              "   rating_Mostly Positive  rating_Overwhelmingly Negative  \\\n",
              "0                   False                           False   \n",
              "1                   False                           False   \n",
              "2                   False                           False   \n",
              "3                   False                           False   \n",
              "4                   False                           False   \n",
              "\n",
              "   rating_Overwhelmingly Positive  rating_Very Positive  date_diff_days  \n",
              "0                           False                  True             434  \n",
              "1                           False                  True            1263  \n",
              "2                           False                  True              31  \n",
              "3                           False                  True            1317  \n",
              "4                            True                 False            1487  \n",
              "\n",
              "[5 rows x 26 columns]"
            ],
            "text/html": [
              "\n",
              "  <div id=\"df-70007601-4c2c-48cf-b263-f61e9cb08f2e\" class=\"colab-df-container\">\n",
              "    <div>\n",
              "<style scoped>\n",
              "    .dataframe tbody tr th:only-of-type {\n",
              "        vertical-align: middle;\n",
              "    }\n",
              "\n",
              "    .dataframe tbody tr th {\n",
              "        vertical-align: top;\n",
              "    }\n",
              "\n",
              "    .dataframe thead th {\n",
              "        text-align: right;\n",
              "    }\n",
              "</style>\n",
              "<table border=\"1\" class=\"dataframe\">\n",
              "  <thead>\n",
              "    <tr style=\"text-align: right;\">\n",
              "      <th></th>\n",
              "      <th>app_id</th>\n",
              "      <th>title</th>\n",
              "      <th>win</th>\n",
              "      <th>mac</th>\n",
              "      <th>linux</th>\n",
              "      <th>positive_ratio</th>\n",
              "      <th>user_reviews</th>\n",
              "      <th>price_final</th>\n",
              "      <th>price_original</th>\n",
              "      <th>discount</th>\n",
              "      <th>...</th>\n",
              "      <th>review_id</th>\n",
              "      <th>products</th>\n",
              "      <th>reviews</th>\n",
              "      <th>rating_Mixed</th>\n",
              "      <th>rating_Mostly Negative</th>\n",
              "      <th>rating_Mostly Positive</th>\n",
              "      <th>rating_Overwhelmingly Negative</th>\n",
              "      <th>rating_Overwhelmingly Positive</th>\n",
              "      <th>rating_Very Positive</th>\n",
              "      <th>date_diff_days</th>\n",
              "    </tr>\n",
              "  </thead>\n",
              "  <tbody>\n",
              "    <tr>\n",
              "      <th>0</th>\n",
              "      <td>387990</td>\n",
              "      <td>Scrap Mechanic</td>\n",
              "      <td>True</td>\n",
              "      <td>False</td>\n",
              "      <td>False</td>\n",
              "      <td>93</td>\n",
              "      <td>90219</td>\n",
              "      <td>20.0</td>\n",
              "      <td>0.0</td>\n",
              "      <td>0.0</td>\n",
              "      <td>...</td>\n",
              "      <td>7636434</td>\n",
              "      <td>0</td>\n",
              "      <td>1</td>\n",
              "      <td>False</td>\n",
              "      <td>False</td>\n",
              "      <td>False</td>\n",
              "      <td>False</td>\n",
              "      <td>False</td>\n",
              "      <td>True</td>\n",
              "      <td>434</td>\n",
              "    </tr>\n",
              "    <tr>\n",
              "      <th>1</th>\n",
              "      <td>504370</td>\n",
              "      <td>Battlerite</td>\n",
              "      <td>True</td>\n",
              "      <td>False</td>\n",
              "      <td>False</td>\n",
              "      <td>84</td>\n",
              "      <td>58661</td>\n",
              "      <td>0.0</td>\n",
              "      <td>0.0</td>\n",
              "      <td>0.0</td>\n",
              "      <td>...</td>\n",
              "      <td>33234095</td>\n",
              "      <td>8</td>\n",
              "      <td>2</td>\n",
              "      <td>False</td>\n",
              "      <td>False</td>\n",
              "      <td>False</td>\n",
              "      <td>False</td>\n",
              "      <td>False</td>\n",
              "      <td>True</td>\n",
              "      <td>1263</td>\n",
              "    </tr>\n",
              "    <tr>\n",
              "      <th>2</th>\n",
              "      <td>333930</td>\n",
              "      <td>Dirty Bomb®</td>\n",
              "      <td>True</td>\n",
              "      <td>False</td>\n",
              "      <td>False</td>\n",
              "      <td>81</td>\n",
              "      <td>57915</td>\n",
              "      <td>0.0</td>\n",
              "      <td>0.0</td>\n",
              "      <td>0.0</td>\n",
              "      <td>...</td>\n",
              "      <td>27930415</td>\n",
              "      <td>930</td>\n",
              "      <td>4</td>\n",
              "      <td>False</td>\n",
              "      <td>False</td>\n",
              "      <td>False</td>\n",
              "      <td>False</td>\n",
              "      <td>False</td>\n",
              "      <td>True</td>\n",
              "      <td>31</td>\n",
              "    </tr>\n",
              "    <tr>\n",
              "      <th>3</th>\n",
              "      <td>252490</td>\n",
              "      <td>Rust</td>\n",
              "      <td>True</td>\n",
              "      <td>True</td>\n",
              "      <td>False</td>\n",
              "      <td>87</td>\n",
              "      <td>786668</td>\n",
              "      <td>40.0</td>\n",
              "      <td>0.0</td>\n",
              "      <td>0.0</td>\n",
              "      <td>...</td>\n",
              "      <td>3393198</td>\n",
              "      <td>13</td>\n",
              "      <td>1</td>\n",
              "      <td>False</td>\n",
              "      <td>False</td>\n",
              "      <td>False</td>\n",
              "      <td>False</td>\n",
              "      <td>False</td>\n",
              "      <td>True</td>\n",
              "      <td>1317</td>\n",
              "    </tr>\n",
              "    <tr>\n",
              "      <th>4</th>\n",
              "      <td>322330</td>\n",
              "      <td>Don't Starve Together</td>\n",
              "      <td>True</td>\n",
              "      <td>True</td>\n",
              "      <td>True</td>\n",
              "      <td>95</td>\n",
              "      <td>280962</td>\n",
              "      <td>15.0</td>\n",
              "      <td>0.0</td>\n",
              "      <td>0.0</td>\n",
              "      <td>...</td>\n",
              "      <td>33594603</td>\n",
              "      <td>24</td>\n",
              "      <td>6</td>\n",
              "      <td>False</td>\n",
              "      <td>False</td>\n",
              "      <td>False</td>\n",
              "      <td>False</td>\n",
              "      <td>True</td>\n",
              "      <td>False</td>\n",
              "      <td>1487</td>\n",
              "    </tr>\n",
              "  </tbody>\n",
              "</table>\n",
              "<p>5 rows × 26 columns</p>\n",
              "</div>\n",
              "    <div class=\"colab-df-buttons\">\n",
              "\n",
              "  <div class=\"colab-df-container\">\n",
              "    <button class=\"colab-df-convert\" onclick=\"convertToInteractive('df-70007601-4c2c-48cf-b263-f61e9cb08f2e')\"\n",
              "            title=\"Convert this dataframe to an interactive table.\"\n",
              "            style=\"display:none;\">\n",
              "\n",
              "  <svg xmlns=\"http://www.w3.org/2000/svg\" height=\"24px\" viewBox=\"0 -960 960 960\">\n",
              "    <path d=\"M120-120v-720h720v720H120Zm60-500h600v-160H180v160Zm220 220h160v-160H400v160Zm0 220h160v-160H400v160ZM180-400h160v-160H180v160Zm440 0h160v-160H620v160ZM180-180h160v-160H180v160Zm440 0h160v-160H620v160Z\"/>\n",
              "  </svg>\n",
              "    </button>\n",
              "\n",
              "  <style>\n",
              "    .colab-df-container {\n",
              "      display:flex;\n",
              "      gap: 12px;\n",
              "    }\n",
              "\n",
              "    .colab-df-convert {\n",
              "      background-color: #E8F0FE;\n",
              "      border: none;\n",
              "      border-radius: 50%;\n",
              "      cursor: pointer;\n",
              "      display: none;\n",
              "      fill: #1967D2;\n",
              "      height: 32px;\n",
              "      padding: 0 0 0 0;\n",
              "      width: 32px;\n",
              "    }\n",
              "\n",
              "    .colab-df-convert:hover {\n",
              "      background-color: #E2EBFA;\n",
              "      box-shadow: 0px 1px 2px rgba(60, 64, 67, 0.3), 0px 1px 3px 1px rgba(60, 64, 67, 0.15);\n",
              "      fill: #174EA6;\n",
              "    }\n",
              "\n",
              "    .colab-df-buttons div {\n",
              "      margin-bottom: 4px;\n",
              "    }\n",
              "\n",
              "    [theme=dark] .colab-df-convert {\n",
              "      background-color: #3B4455;\n",
              "      fill: #D2E3FC;\n",
              "    }\n",
              "\n",
              "    [theme=dark] .colab-df-convert:hover {\n",
              "      background-color: #434B5C;\n",
              "      box-shadow: 0px 1px 3px 1px rgba(0, 0, 0, 0.15);\n",
              "      filter: drop-shadow(0px 1px 2px rgba(0, 0, 0, 0.3));\n",
              "      fill: #FFFFFF;\n",
              "    }\n",
              "  </style>\n",
              "\n",
              "    <script>\n",
              "      const buttonEl =\n",
              "        document.querySelector('#df-70007601-4c2c-48cf-b263-f61e9cb08f2e button.colab-df-convert');\n",
              "      buttonEl.style.display =\n",
              "        google.colab.kernel.accessAllowed ? 'block' : 'none';\n",
              "\n",
              "      async function convertToInteractive(key) {\n",
              "        const element = document.querySelector('#df-70007601-4c2c-48cf-b263-f61e9cb08f2e');\n",
              "        const dataTable =\n",
              "          await google.colab.kernel.invokeFunction('convertToInteractive',\n",
              "                                                    [key], {});\n",
              "        if (!dataTable) return;\n",
              "\n",
              "        const docLinkHtml = 'Like what you see? Visit the ' +\n",
              "          '<a target=\"_blank\" href=https://colab.research.google.com/notebooks/data_table.ipynb>data table notebook</a>'\n",
              "          + ' to learn more about interactive tables.';\n",
              "        element.innerHTML = '';\n",
              "        dataTable['output_type'] = 'display_data';\n",
              "        await google.colab.output.renderOutput(dataTable, element);\n",
              "        const docLink = document.createElement('div');\n",
              "        docLink.innerHTML = docLinkHtml;\n",
              "        element.appendChild(docLink);\n",
              "      }\n",
              "    </script>\n",
              "  </div>\n",
              "\n",
              "\n",
              "    <div id=\"df-0a88686e-f1da-4ac5-a63c-de8d7a96658f\">\n",
              "      <button class=\"colab-df-quickchart\" onclick=\"quickchart('df-0a88686e-f1da-4ac5-a63c-de8d7a96658f')\"\n",
              "                title=\"Suggest charts\"\n",
              "                style=\"display:none;\">\n",
              "\n",
              "<svg xmlns=\"http://www.w3.org/2000/svg\" height=\"24px\"viewBox=\"0 0 24 24\"\n",
              "     width=\"24px\">\n",
              "    <g>\n",
              "        <path d=\"M19 3H5c-1.1 0-2 .9-2 2v14c0 1.1.9 2 2 2h14c1.1 0 2-.9 2-2V5c0-1.1-.9-2-2-2zM9 17H7v-7h2v7zm4 0h-2V7h2v10zm4 0h-2v-4h2v4z\"/>\n",
              "    </g>\n",
              "</svg>\n",
              "      </button>\n",
              "\n",
              "<style>\n",
              "  .colab-df-quickchart {\n",
              "      --bg-color: #E8F0FE;\n",
              "      --fill-color: #1967D2;\n",
              "      --hover-bg-color: #E2EBFA;\n",
              "      --hover-fill-color: #174EA6;\n",
              "      --disabled-fill-color: #AAA;\n",
              "      --disabled-bg-color: #DDD;\n",
              "  }\n",
              "\n",
              "  [theme=dark] .colab-df-quickchart {\n",
              "      --bg-color: #3B4455;\n",
              "      --fill-color: #D2E3FC;\n",
              "      --hover-bg-color: #434B5C;\n",
              "      --hover-fill-color: #FFFFFF;\n",
              "      --disabled-bg-color: #3B4455;\n",
              "      --disabled-fill-color: #666;\n",
              "  }\n",
              "\n",
              "  .colab-df-quickchart {\n",
              "    background-color: var(--bg-color);\n",
              "    border: none;\n",
              "    border-radius: 50%;\n",
              "    cursor: pointer;\n",
              "    display: none;\n",
              "    fill: var(--fill-color);\n",
              "    height: 32px;\n",
              "    padding: 0;\n",
              "    width: 32px;\n",
              "  }\n",
              "\n",
              "  .colab-df-quickchart:hover {\n",
              "    background-color: var(--hover-bg-color);\n",
              "    box-shadow: 0 1px 2px rgba(60, 64, 67, 0.3), 0 1px 3px 1px rgba(60, 64, 67, 0.15);\n",
              "    fill: var(--button-hover-fill-color);\n",
              "  }\n",
              "\n",
              "  .colab-df-quickchart-complete:disabled,\n",
              "  .colab-df-quickchart-complete:disabled:hover {\n",
              "    background-color: var(--disabled-bg-color);\n",
              "    fill: var(--disabled-fill-color);\n",
              "    box-shadow: none;\n",
              "  }\n",
              "\n",
              "  .colab-df-spinner {\n",
              "    border: 2px solid var(--fill-color);\n",
              "    border-color: transparent;\n",
              "    border-bottom-color: var(--fill-color);\n",
              "    animation:\n",
              "      spin 1s steps(1) infinite;\n",
              "  }\n",
              "\n",
              "  @keyframes spin {\n",
              "    0% {\n",
              "      border-color: transparent;\n",
              "      border-bottom-color: var(--fill-color);\n",
              "      border-left-color: var(--fill-color);\n",
              "    }\n",
              "    20% {\n",
              "      border-color: transparent;\n",
              "      border-left-color: var(--fill-color);\n",
              "      border-top-color: var(--fill-color);\n",
              "    }\n",
              "    30% {\n",
              "      border-color: transparent;\n",
              "      border-left-color: var(--fill-color);\n",
              "      border-top-color: var(--fill-color);\n",
              "      border-right-color: var(--fill-color);\n",
              "    }\n",
              "    40% {\n",
              "      border-color: transparent;\n",
              "      border-right-color: var(--fill-color);\n",
              "      border-top-color: var(--fill-color);\n",
              "    }\n",
              "    60% {\n",
              "      border-color: transparent;\n",
              "      border-right-color: var(--fill-color);\n",
              "    }\n",
              "    80% {\n",
              "      border-color: transparent;\n",
              "      border-right-color: var(--fill-color);\n",
              "      border-bottom-color: var(--fill-color);\n",
              "    }\n",
              "    90% {\n",
              "      border-color: transparent;\n",
              "      border-bottom-color: var(--fill-color);\n",
              "    }\n",
              "  }\n",
              "</style>\n",
              "\n",
              "      <script>\n",
              "        async function quickchart(key) {\n",
              "          const quickchartButtonEl =\n",
              "            document.querySelector('#' + key + ' button');\n",
              "          quickchartButtonEl.disabled = true;  // To prevent multiple clicks.\n",
              "          quickchartButtonEl.classList.add('colab-df-spinner');\n",
              "          try {\n",
              "            const charts = await google.colab.kernel.invokeFunction(\n",
              "                'suggestCharts', [key], {});\n",
              "          } catch (error) {\n",
              "            console.error('Error during call to suggestCharts:', error);\n",
              "          }\n",
              "          quickchartButtonEl.classList.remove('colab-df-spinner');\n",
              "          quickchartButtonEl.classList.add('colab-df-quickchart-complete');\n",
              "        }\n",
              "        (() => {\n",
              "          let quickchartButtonEl =\n",
              "            document.querySelector('#df-0a88686e-f1da-4ac5-a63c-de8d7a96658f button');\n",
              "          quickchartButtonEl.style.display =\n",
              "            google.colab.kernel.accessAllowed ? 'block' : 'none';\n",
              "        })();\n",
              "      </script>\n",
              "    </div>\n",
              "\n",
              "    </div>\n",
              "  </div>\n"
            ],
            "application/vnd.google.colaboratory.intrinsic+json": {
              "type": "dataframe",
              "variable_name": "sampled_df_reduced"
            }
          },
          "metadata": {},
          "execution_count": 12
        }
      ]
    },
    {
      "cell_type": "code",
      "source": [
        "sampled_df_reduced.info()"
      ],
      "metadata": {
        "colab": {
          "base_uri": "https://localhost:8080/"
        },
        "id": "Ld8gp6ICuRz7",
        "outputId": "b68b6f6e-addb-4f0c-f8fd-01481610b60f"
      },
      "execution_count": null,
      "outputs": [
        {
          "output_type": "stream",
          "name": "stdout",
          "text": [
            "<class 'pandas.core.frame.DataFrame'>\n",
            "RangeIndex: 115358 entries, 0 to 115357\n",
            "Data columns (total 26 columns):\n",
            " #   Column                          Non-Null Count   Dtype  \n",
            "---  ------                          --------------   -----  \n",
            " 0   app_id                          115358 non-null  int64  \n",
            " 1   title                           115358 non-null  object \n",
            " 2   win                             115358 non-null  bool   \n",
            " 3   mac                             115358 non-null  bool   \n",
            " 4   linux                           115358 non-null  bool   \n",
            " 5   positive_ratio                  115358 non-null  int64  \n",
            " 6   user_reviews                    115358 non-null  int64  \n",
            " 7   price_final                     115358 non-null  float64\n",
            " 8   price_original                  115358 non-null  float64\n",
            " 9   discount                        115358 non-null  float64\n",
            " 10  steam_deck                      115358 non-null  bool   \n",
            " 11  helpful                         115358 non-null  int64  \n",
            " 12  funny                           115358 non-null  int64  \n",
            " 13  is_recommended                  115358 non-null  bool   \n",
            " 14  hours                           115358 non-null  float64\n",
            " 15  user_id                         115358 non-null  int64  \n",
            " 16  review_id                       115358 non-null  int64  \n",
            " 17  products                        115358 non-null  int64  \n",
            " 18  reviews                         115358 non-null  int64  \n",
            " 19  rating_Mixed                    115358 non-null  bool   \n",
            " 20  rating_Mostly Negative          115358 non-null  bool   \n",
            " 21  rating_Mostly Positive          115358 non-null  bool   \n",
            " 22  rating_Overwhelmingly Negative  115358 non-null  bool   \n",
            " 23  rating_Overwhelmingly Positive  115358 non-null  bool   \n",
            " 24  rating_Very Positive            115358 non-null  bool   \n",
            " 25  date_diff_days                  115358 non-null  int64  \n",
            "dtypes: bool(11), float64(4), int64(10), object(1)\n",
            "memory usage: 14.4+ MB\n"
          ]
        }
      ]
    },
    {
      "cell_type": "markdown",
      "source": [
        "### Descriptive Analysis"
      ],
      "metadata": {
        "id": "QHT2lQuJOg4h"
      }
    },
    {
      "cell_type": "code",
      "source": [
        "# Create a histogram of the 'date_diff_days' column\n",
        "plt.figure(figsize=(10, 6))\n",
        "plt.hist(sampled_df_reduced['date_diff_days'], bins=30, edgecolor='black', color='#ffe700')\n",
        "\n",
        "# Add labels and title\n",
        "plt.title('Distribution of Review Date Difference (Days) from Release', fontsize=14)\n",
        "plt.xlabel('Days Between Release and Review', fontsize=12)\n",
        "plt.ylabel('Frequency', fontsize=12)\n",
        "\n",
        "# Show the plot\n",
        "plt.grid(False)\n",
        "plt.show()"
      ],
      "metadata": {
        "colab": {
          "base_uri": "https://localhost:8080/",
          "height": 569
        },
        "id": "PSsYXnB_scIR",
        "outputId": "ce9586d0-741b-47dc-ad0d-b200c98a4448"
      },
      "execution_count": null,
      "outputs": [
        {
          "output_type": "display_data",
          "data": {
            "text/plain": [
              "<Figure size 1000x600 with 1 Axes>"
            ],
            "image/png": "[encoded data removed]"
          },
          "metadata": {}
        }
      ]
    },
    {
      "cell_type": "code",
      "source": [
        "sampled_df_reduced[\"date_diff_days\"].describe()"
      ],
      "metadata": {
        "colab": {
          "base_uri": "https://localhost:8080/",
          "height": 335
        },
        "id": "34V2i3gf1D3P",
        "outputId": "4afc9cba-7c42-4413-d716-5331c7460b90"
      },
      "execution_count": null,
      "outputs": [
        {
          "output_type": "execute_result",
          "data": {
            "text/plain": [
              "count    115358.000000\n",
              "mean        967.954221\n",
              "std        1238.190429\n",
              "min       -4139.000000\n",
              "25%          56.000000\n",
              "50%         624.000000\n",
              "75%        1584.000000\n",
              "max        9146.000000\n",
              "Name: date_diff_days, dtype: float64"
            ],
            "text/html": [
              "<div>\n",
              "<style scoped>\n",
              "    .dataframe tbody tr th:only-of-type {\n",
              "        vertical-align: middle;\n",
              "    }\n",
              "\n",
              "    .dataframe tbody tr th {\n",
              "        vertical-align: top;\n",
              "    }\n",
              "\n",
              "    .dataframe thead th {\n",
              "        text-align: right;\n",
              "    }\n",
              "</style>\n",
              "<table border=\"1\" class=\"dataframe\">\n",
              "  <thead>\n",
              "    <tr style=\"text-align: right;\">\n",
              "      <th></th>\n",
              "      <th>date_diff_days</th>\n",
              "    </tr>\n",
              "  </thead>\n",
              "  <tbody>\n",
              "    <tr>\n",
              "      <th>count</th>\n",
              "      <td>115358.000000</td>\n",
              "    </tr>\n",
              "    <tr>\n",
              "      <th>mean</th>\n",
              "      <td>967.954221</td>\n",
              "    </tr>\n",
              "    <tr>\n",
              "      <th>std</th>\n",
              "      <td>1238.190429</td>\n",
              "    </tr>\n",
              "    <tr>\n",
              "      <th>min</th>\n",
              "      <td>-4139.000000</td>\n",
              "    </tr>\n",
              "    <tr>\n",
              "      <th>25%</th>\n",
              "      <td>56.000000</td>\n",
              "    </tr>\n",
              "    <tr>\n",
              "      <th>50%</th>\n",
              "      <td>624.000000</td>\n",
              "    </tr>\n",
              "    <tr>\n",
              "      <th>75%</th>\n",
              "      <td>1584.000000</td>\n",
              "    </tr>\n",
              "    <tr>\n",
              "      <th>max</th>\n",
              "      <td>9146.000000</td>\n",
              "    </tr>\n",
              "  </tbody>\n",
              "</table>\n",
              "</div><br><label><b>dtype:</b> float64</label>"
            ]
          },
          "metadata": {},
          "execution_count": 15
        }
      ]
    },
    {
      "cell_type": "markdown",
      "source": [
        "1. Shape of the Distribution:\n",
        "  * The distribution appears to be skewed to the right (positively skewed), with a large peak near 0, which represents reviews made around the release date of the game.\n",
        "  * The bulk of the reviews are clustered near 0, meaning most reviews were made shortly after the release. However, there is a long tail extending to the right, indicating that some reviews are made much later after the release (several years later in some cases).\n",
        "  * There is also a smaller left tail, indicating a smaller number of reviews that were made before the release.\n",
        "\n",
        "2. Central Tendency\n",
        "  * Mean: The average number of days is positive (967.95 days), which means that, on average, reviews tend to come after the release.\n",
        "  * Median: The median (624 days) is lower than the mean, which is another indicator of a right-skewed distribution (because the tail is pulling the mean to the right).\n",
        "  * Peak Near Zero: The mode or most frequent number of days appears to be around 0, which indicates that a lot of reviews are written very close to the game's release.\n",
        "\n",
        "Takeaways:\n",
        "* The majority of reviews are made soon after the release of the game, with a peak near 0 days.\n",
        "* The distribution is right-skewed, with a long tail to the right, indicating that some reviews are written much later after the release.\n",
        "* A small number of reviews are written before the release date, which could be related to leaks or promotional reviews.\n",
        "* The mean is greater than the median, suggesting a positive skew, and the standard deviation is large, indicating a wide spread in the data."
      ],
      "metadata": {
        "id": "2hE0BMmB07kw"
      }
    },
    {
      "cell_type": "code",
      "source": [
        "# Count number of reviews per unique game\n",
        "game_review_counts = sampled_df_reduced['app_id'].value_counts()\n",
        "\n",
        "# Create histogram bins\n",
        "bins = np.arange(0, 610, 10)\n",
        "\n",
        "# Plot histogram\n",
        "plt.figure(figsize=(8, 5))\n",
        "plt.hist(game_review_counts, bins=bins, edgecolor='black')\n",
        "plt.title('Distribution of Games by Number of Reviews')\n",
        "plt.xlabel('Number of Reviews')\n",
        "plt.ylabel('Number of Games')\n",
        "plt.xlim(0, 600)\n",
        "plt.xticks(ticks=np.arange(0, 610, 50))\n",
        "plt.grid(axis='y', linestyle='--', alpha=0.7)\n",
        "plt.show()"
      ],
      "metadata": {
        "colab": {
          "base_uri": "https://localhost:8080/",
          "height": 487
        },
        "id": "ihL7foZyOOLN",
        "outputId": "8d278322-d319-4621-b710-1eb6f2053bfe"
      },
      "execution_count": 89,
      "outputs": [
        {
          "output_type": "display_data",
          "data": {
            "text/plain": [
              "<Figure size 800x500 with 1 Axes>"
            ],
            "image/png": "[encoded data removed]"
          },
          "metadata": {}
        }
      ]
    },
    {
      "cell_type": "markdown",
      "source": [
        "### Model Preparation"
      ],
      "metadata": {
        "id": "OffhrwU1Ol71"
      }
    },
    {
      "cell_type": "code",
      "execution_count": null,
      "metadata": {
        "id": "ajT7yEjSGzhV"
      },
      "outputs": [],
      "source": [
        "# Look through all potential predictors\n",
        "potential_predictors = [col for col in sampled_df_reduced.columns if col not in ['app_id', 'user_id', 'review_id', 'title', 'price_final', 'is_recommended']]\n",
        "\n",
        "X = sampled_df_reduced[potential_predictors]\n",
        "y = sampled_df_reduced['is_recommended']"
      ]
    },
    {
      "cell_type": "code",
      "execution_count": null,
      "metadata": {
        "colab": {
          "base_uri": "https://localhost:8080/"
        },
        "id": "HLbfcWKeGHJk",
        "outputId": "2a9d6c86-143c-413b-b1db-a87cc20a0bfe"
      },
      "outputs": [
        {
          "output_type": "stream",
          "name": "stdout",
          "text": [
            "20\n"
          ]
        }
      ],
      "source": [
        "feature_amount = len(potential_predictors)\n",
        "print(feature_amount)"
      ]
    },
    {
      "cell_type": "code",
      "source": [
        "print(f\"The predictors: \\n{X.columns}\")"
      ],
      "metadata": {
        "colab": {
          "base_uri": "https://localhost:8080/"
        },
        "id": "uMn2ujEz2ExX",
        "outputId": "2001966f-e00d-4d29-91ad-fc7dab524ad0"
      },
      "execution_count": null,
      "outputs": [
        {
          "output_type": "stream",
          "name": "stdout",
          "text": [
            "The predictors: \n",
            "Index(['win', 'mac', 'linux', 'positive_ratio', 'user_reviews',\n",
            "       'price_original', 'discount', 'steam_deck', 'helpful', 'funny', 'hours',\n",
            "       'products', 'reviews', 'rating_Mixed', 'rating_Mostly Negative',\n",
            "       'rating_Mostly Positive', 'rating_Overwhelmingly Negative',\n",
            "       'rating_Overwhelmingly Positive', 'rating_Very Positive',\n",
            "       'date_diff_days'],\n",
            "      dtype='object')\n"
          ]
        }
      ]
    },
    {
      "cell_type": "markdown",
      "source": [
        "Feature Selection Attempt (not used!)"
      ],
      "metadata": {
        "id": "douZC7nGO0IE"
      }
    },
    {
      "cell_type": "code",
      "execution_count": null,
      "metadata": {
        "id": "cwVmuxBazeVy"
      },
      "outputs": [],
      "source": [
        "# # Feature selection\n",
        "\n",
        "# # # Manual\n",
        "# # numerical_predictors = ['products', 'reviews', 'user_reviews', 'hours', 'price_final', 'positive_ratio'] # not sure about rating/positive_ratio since it's a static variable for each game\n",
        "# # categorical_predictors = ['steam_deck']\n",
        "# # X = sampled_df[numerical_predictors + categorical_predictors\n",
        "# # y = sampled_df['is_recommended']\n",
        "\n",
        "# # For trees\n",
        "# from sklearn.feature_selection import SelectKBest, chi2\n",
        "\n",
        "# best_features = SelectKBest(score_func=chi2, k=15)\n",
        "# fit = best_features.fit(X.drop('date_diff_days', axis=1),y)\n",
        "# print(fit.get_feature_names_out()) # prints best features\n",
        "# print(fit.scores_)\n",
        "# # Set X to the best features\n",
        "# select_k_predictors = fit.get_feature_names_out()\n",
        "# X = sampled_df_reduced[select_k_predictors]\n"
      ]
    },
    {
      "cell_type": "code",
      "execution_count": null,
      "metadata": {
        "id": "klbvjP4EzT2D"
      },
      "outputs": [],
      "source": [
        "# majority = max(len(sampled_df_reduced[sampled_df_reduced.is_recommended == True]), len(sampled_df_reduced[sampled_df_reduced.is_recommended == False]))\n",
        "# baseline = majority / len(sampled_df_reduced)\n",
        "# print(f'Sample baseline accuracy: {baseline}')\n",
        "# print('Original data baseline accuracy: 0.86')"
      ]
    },
    {
      "cell_type": "markdown",
      "source": [
        "## Experimenting with Predictive Models"
      ],
      "metadata": {
        "id": "s98K3TZ32hD0"
      }
    },
    {
      "cell_type": "markdown",
      "source": [
        "Dataframe: `sampled_df_reduced`  \n",
        "Predictors: `X`   \n",
        "Outcome Variable: `y`"
      ],
      "metadata": {
        "id": "xHGgeQSL25hH"
      }
    },
    {
      "cell_type": "markdown",
      "source": [
        "### Linear Regression"
      ],
      "metadata": {
        "id": "gV-5mvSH_6t3"
      }
    },
    {
      "cell_type": "code",
      "source": [
        "X_train, X_test, y_train, y_test = train_test_split(X, y, test_size=0.2, random_state=42)"
      ],
      "metadata": {
        "id": "BG06V61R_6Hi"
      },
      "execution_count": null,
      "outputs": []
    },
    {
      "cell_type": "code",
      "source": [
        "# 1. choose model class\n",
        "from sklearn.linear_model import LinearRegression\n",
        "# 2. instantiate model\n",
        "lr = LinearRegression()\n",
        "# 3. fit model to data\n",
        "lr.fit(X_train, y_train)\n",
        "# predict, evaluate\n",
        "yhat_test_lr = lr.predict(X_test)\n",
        "round(mean_squared_error(y_test, yhat_test_lr),4)"
      ],
      "metadata": {
        "id": "l70ush7FAEam",
        "colab": {
          "base_uri": "https://localhost:8080/"
        },
        "outputId": "8c6786fa-8f3c-416a-84fa-433c06b81a62"
      },
      "execution_count": null,
      "outputs": [
        {
          "output_type": "execute_result",
          "data": {
            "text/plain": [
              "0.2076"
            ]
          },
          "metadata": {},
          "execution_count": 22
        }
      ]
    },
    {
      "cell_type": "markdown",
      "source": [
        "Stepwise Feature Selection"
      ],
      "metadata": {
        "id": "_ZpHeATvANyD"
      }
    },
    {
      "cell_type": "code",
      "source": [
        "# Initialize the linear regression model\n",
        "base_lr = LinearRegression()\n",
        "\n",
        "# Store the cross-validation scores for each number of features\n",
        "cv_scores = []\n",
        "\n",
        "# Iterate over the number of features\n",
        "for i in range(1, len(X.columns)):\n",
        "    # Initialize SequentialFeatureSelector with the desired number of features\n",
        "    sfs = SequentialFeatureSelector(estimator=base_lr, n_features_to_select=i, direction='forward')\n",
        "\n",
        "    # Fit the selector to the training data\n",
        "    sfs.fit(X_train, y_train)\n",
        "\n",
        "    # Get the selected features\n",
        "    selected_features = X_train.columns[sfs.get_support()]\n",
        "\n",
        "    # Use cross-validation to evaluate the model with the selected features\n",
        "    X_train_selected = X_train[selected_features]\n",
        "    score = np.mean(cross_val_score(base_lr, X_train_selected, y_train, cv=5, scoring='r2'))\n",
        "\n",
        "    # Store the score for this number of features\n",
        "    cv_scores.append(score)\n",
        "\n",
        "# Find the number of features that gave the best cross-validation score\n",
        "optimal_num_features = np.argmax(cv_scores) + 1  # Adding 1 because the index starts from 0\n",
        "optimal_score = cv_scores[optimal_num_features - 1]\n",
        "\n",
        "print(f\"Optimal number of features: {optimal_num_features}\")\n",
        "print(f\"Cross-validation R² score for the optimal number of features: {optimal_score}\")"
      ],
      "metadata": {
        "id": "IS7pMovPAFDM",
        "colab": {
          "base_uri": "https://localhost:8080/"
        },
        "outputId": "011e3d2a-4fb0-47fe-8e1e-232a1e3f6837"
      },
      "execution_count": null,
      "outputs": [
        {
          "output_type": "stream",
          "name": "stdout",
          "text": [
            "Optimal number of features: 16\n",
            "Cross-validation R² score for the optimal number of features: 0.16830012031375705\n"
          ]
        }
      ]
    },
    {
      "cell_type": "code",
      "source": [
        "# Get the selected features for the optimal number (16 features)\n",
        "sfs = SequentialFeatureSelector(estimator=base_lr, n_features_to_select=optimal_num_features, direction='forward')\n",
        "sfs.fit(X_train, y_train)\n",
        "\n",
        "# Get the selected features (names of the features selected by the SFS)\n",
        "selected_features = X_train.columns[sfs.get_support()]\n",
        "\n",
        "# Output the selected predictors\n",
        "print(f\"Selected features: {selected_features.tolist()}\")\n",
        "\n",
        "# Create a new DataFrame with only the selected features\n",
        "X_train_selected = X_train[selected_features]\n",
        "X_test_selected = X_test[selected_features]\n",
        "\n",
        "# Train the final LinearRegression model using the selected features\n",
        "final_model = LinearRegression()\n",
        "final_model.fit(X_train_selected, y_train)\n",
        "\n",
        "# Make predictions on the test set\n",
        "y_pred = final_model.predict(X_test_selected)\n",
        "\n",
        "# Evaluate the model\n",
        "test_r2_score = r2_score(y_test, y_pred)\n",
        "\n",
        "# Evaluate the model using Mean Squared Error (MSE)\n",
        "mse = mean_squared_error(y_test, y_pred)\n",
        "\n",
        "print(f\"Mean Squared Error (MSE) on the test set: {mse}\")\n",
        "print(f\"R² score on the test set: {test_r2_score}\")\n"
      ],
      "metadata": {
        "id": "eMChIZRxAcWP",
        "colab": {
          "base_uri": "https://localhost:8080/"
        },
        "outputId": "360a220b-1e4b-4e5f-91c8-404999c7a2b0"
      },
      "execution_count": null,
      "outputs": [
        {
          "output_type": "stream",
          "name": "stdout",
          "text": [
            "Selected features: ['win', 'positive_ratio', 'user_reviews', 'price_original', 'helpful', 'funny', 'hours', 'products', 'reviews', 'rating_Mixed', 'rating_Mostly Negative', 'rating_Mostly Positive', 'rating_Overwhelmingly Negative', 'rating_Overwhelmingly Positive', 'rating_Very Positive', 'date_diff_days']\n",
            "Mean Squared Error (MSE) on the test set: 0.2076109349430819\n",
            "R² score on the test set: 0.16952021516746119\n"
          ]
        }
      ]
    },
    {
      "cell_type": "markdown",
      "source": [
        "### Ridge Regression"
      ],
      "metadata": {
        "id": "B-R4t-uTAg0p"
      }
    },
    {
      "cell_type": "markdown",
      "source": [
        "default model"
      ],
      "metadata": {
        "id": "W6t8vhpKAkc7"
      }
    },
    {
      "cell_type": "code",
      "source": [
        "scaler = StandardScaler()\n",
        "x_train_std = scaler.fit_transform(X_train) #applies mean and std of training set\n",
        "x_test_std = scaler.transform(X_test) #we use only transform to prevent data leakage\n",
        "x_test_std.mean(0)\n",
        "\n",
        "# fit a ridge model\n",
        "ridge = Ridge(alpha=0.1)\n",
        "ridge.fit(x_train_std, y_train)\n",
        "print(ridge.coef_)\n",
        "\n",
        "# predict and evaluate on test set\n",
        "yhat_test_rg = ridge.predict(x_test_std)\n",
        "round(mean_squared_error(y_test,yhat_test_rg),4)"
      ],
      "metadata": {
        "id": "lINU-HkLAi0-",
        "colab": {
          "base_uri": "https://localhost:8080/"
        },
        "outputId": "7b964e62-85fd-4383-ab94-a26d4c414180"
      },
      "execution_count": null,
      "outputs": [
        {
          "output_type": "stream",
          "name": "stdout",
          "text": [
            "[-3.17800406e-03 -1.98571451e-04  9.29174016e-04  2.21699130e-01\n",
            " -2.12085755e-02  1.31270036e-02  1.10676795e-04  5.37525926e-04\n",
            " -1.23725184e-02  3.32169100e-03  3.63033794e-02 -1.52407539e-02\n",
            " -8.18388077e-03  3.02496351e-02  4.12093995e-02 -2.15764506e-02\n",
            "  2.31074206e-02  2.37376111e-02 -3.17828382e-02  5.63390959e-03]\n"
          ]
        },
        {
          "output_type": "execute_result",
          "data": {
            "text/plain": [
              "0.2076"
            ]
          },
          "metadata": {},
          "execution_count": 25
        }
      ]
    },
    {
      "cell_type": "markdown",
      "source": [
        "Grid Search Cross Validation"
      ],
      "metadata": {
        "id": "b3lQW9fFAmGT"
      }
    },
    {
      "cell_type": "code",
      "source": [
        "# Apply scaling to the training and test sets\n",
        "scaler = StandardScaler()\n",
        "x_train_std = scaler.fit_transform(X_train)  # Applies mean and std of training set\n",
        "x_test_std = scaler.transform(X_test)  # Use only transform to prevent data leakage\n",
        "\n",
        "# Initialize the Ridge model\n",
        "ridge = Ridge()\n",
        "\n",
        "# Set up the range of alpha values to search over\n",
        "alpha_values = np.logspace(-6, 6, 13)  # Alpha values from 1e-6 to 1e6 (log scale)\n",
        "\n",
        "# Set up the hyperparameter grid for GridSearchCV\n",
        "param_grid = {'alpha': alpha_values}\n",
        "\n",
        "# Set up GridSearchCV to search for the best alpha using 5-fold cross-validation\n",
        "grid_search = GridSearchCV(estimator=ridge, param_grid=param_grid, cv=5, scoring='neg_mean_squared_error', verbose=1)\n",
        "\n",
        "# Fit the grid search to the data\n",
        "grid_search.fit(x_train_std, y_train)\n",
        "\n",
        "# Print the best alpha found by GridSearchCV\n",
        "print(f\"Optimal alpha: {grid_search.best_params_['alpha']}\")\n",
        "\n",
        "# Get the best Ridge model from the grid search\n",
        "best_ridge = grid_search.best_estimator_\n",
        "\n",
        "# Fit the best model on the entire training set\n",
        "best_ridge.fit(x_train_std, y_train)\n",
        "\n",
        "# Print the coefficients of the best model\n",
        "print(f\"Best Ridge Coefficients: {best_ridge.coef_}\")\n",
        "\n",
        "# Print the selected predictors (features) based on the best alpha value\n",
        "selected_predictors = X_train.columns\n",
        "print(f\"Selected predictors: {selected_predictors.tolist()}\")\n",
        "\n",
        "# Predict and evaluate on the test set\n",
        "yhat_test_rg = best_ridge.predict(x_test_std)\n",
        "\n",
        "# Calculate and print the Mean Squared Error on the test set\n",
        "test_mse = mean_squared_error(y_test, yhat_test_rg)\n",
        "print(f\"Test set MSE: {round(test_mse, 4)}\")"
      ],
      "metadata": {
        "id": "DjNeiaXDAmdC",
        "colab": {
          "base_uri": "https://localhost:8080/"
        },
        "outputId": "f2c48847-3d7b-4678-d790-280eed45c266"
      },
      "execution_count": null,
      "outputs": [
        {
          "output_type": "stream",
          "name": "stdout",
          "text": [
            "Fitting 5 folds for each of 13 candidates, totalling 65 fits\n",
            "Optimal alpha: 10.0\n",
            "Best Ridge Coefficients: [-3.17840137e-03 -1.92854182e-04  9.34771185e-04  2.21441721e-01\n",
            " -2.12109998e-02  1.31261198e-02  1.16000699e-04  5.36433000e-04\n",
            " -1.23711830e-02  3.32072619e-03  3.62934685e-02 -1.52383038e-02\n",
            " -8.18357690e-03  3.01037490e-02  4.11111691e-02 -2.16195429e-02\n",
            "  2.30605562e-02  2.38438875e-02 -3.17232069e-02  5.64225447e-03]\n",
            "Selected predictors: ['win', 'mac', 'linux', 'positive_ratio', 'user_reviews', 'price_original', 'discount', 'steam_deck', 'helpful', 'funny', 'hours', 'products', 'reviews', 'rating_Mixed', 'rating_Mostly Negative', 'rating_Mostly Positive', 'rating_Overwhelmingly Negative', 'rating_Overwhelmingly Positive', 'rating_Very Positive', 'date_diff_days']\n",
            "Test set MSE: 0.2076\n"
          ]
        }
      ]
    },
    {
      "cell_type": "markdown",
      "source": [
        "### Lasso Regression"
      ],
      "metadata": {
        "id": "BTVy7LMXA3oW"
      }
    },
    {
      "cell_type": "markdown",
      "source": [
        "default model"
      ],
      "metadata": {
        "id": "qeVNhjaxA883"
      }
    },
    {
      "cell_type": "code",
      "source": [
        "lasso_pipe = make_pipeline(StandardScaler(), Lasso(alpha=0.01))\n",
        "lasso_pipe.fit(X_train, y_train)\n",
        "yhat_test_ls = lasso_pipe.predict(X_test)\n",
        "\n",
        "print(lasso_pipe['lasso'].coef_)\n",
        "print(X_train.columns[lasso_pipe['lasso'].coef_ != 0])\n",
        "round(mean_squared_error(y_test, yhat_test_ls), 4)"
      ],
      "metadata": {
        "id": "qB-bzc6qA5OI",
        "colab": {
          "base_uri": "https://localhost:8080/"
        },
        "outputId": "e5286a3c-ae1a-46aa-9149-5c6bec37c9dd"
      },
      "execution_count": null,
      "outputs": [
        {
          "output_type": "stream",
          "name": "stdout",
          "text": [
            "[-0.          0.          0.          0.14848277 -0.00861662  0.00145954\n",
            "  0.         -0.         -0.00160815 -0.          0.01976159 -0.00764563\n",
            " -0.00042707 -0.          0.00621995 -0.01589669  0.00093989  0.05901937\n",
            " -0.          0.00018284]\n",
            "Index(['positive_ratio', 'user_reviews', 'price_original', 'helpful', 'hours',\n",
            "       'products', 'reviews', 'rating_Mostly Negative',\n",
            "       'rating_Mostly Positive', 'rating_Overwhelmingly Negative',\n",
            "       'rating_Overwhelmingly Positive', 'date_diff_days'],\n",
            "      dtype='object')\n"
          ]
        },
        {
          "output_type": "execute_result",
          "data": {
            "text/plain": [
              "0.2097"
            ]
          },
          "metadata": {},
          "execution_count": 27
        }
      ]
    },
    {
      "cell_type": "markdown",
      "source": [
        "Grid Search Cross Validation"
      ],
      "metadata": {
        "id": "-ueJFSHQA-9V"
      }
    },
    {
      "cell_type": "code",
      "source": [
        "# Apply scaling to the training and test sets\n",
        "scaler = StandardScaler()\n",
        "x_train_std = scaler.fit_transform(X_train)  # Applies mean and std of training set\n",
        "x_test_std = scaler.transform(X_test)  # Use only transform to prevent data leakage\n",
        "\n",
        "# Initialize the Lasso model\n",
        "lasso = Lasso()\n",
        "\n",
        "# Set up the range of alpha values to search over for Lasso (log scale for alpha)\n",
        "alpha_values = np.array([0.001, 0.005, 0.01, 0.05, 0.1, 0.5, 1, 5, 10])\n",
        "\n",
        "# Set up the hyperparameter grid for GridSearchCV\n",
        "param_grid = {'alpha': alpha_values}\n",
        "\n",
        "# Set up GridSearchCV to search for the best alpha using 5-fold cross-validation\n",
        "grid_search_lasso = GridSearchCV(estimator=lasso, param_grid=param_grid, cv=5, scoring='neg_mean_squared_error', verbose=1)\n",
        "\n",
        "# Fit the grid search to the training data\n",
        "grid_search_lasso.fit(x_train_std, y_train)\n",
        "\n",
        "# Print the best alpha found by GridSearchCV\n",
        "print(f\"Optimal alpha for Lasso: {grid_search_lasso.best_params_['alpha']}\")\n",
        "\n",
        "# Get the best Lasso model from the grid search\n",
        "best_lasso = grid_search_lasso.best_estimator_\n",
        "\n",
        "# Fit the best model on the entire training set\n",
        "best_lasso.fit(x_train_std, y_train)\n",
        "\n",
        "# Print the coefficients of the best model\n",
        "print(f\"Best Lasso Coefficients: {best_lasso.coef_}\")\n",
        "\n",
        "# Print the selected predictors (features) with non-zero coefficients\n",
        "selected_predictors = X_train.columns[best_lasso.coef_ != 0]  # Features with non-zero coefficients\n",
        "print(f\"Selected predictors for Lasso regression: {selected_predictors.tolist()}\")\n",
        "\n",
        "# Predict and evaluate on the test set\n",
        "yhat_test_lasso = best_lasso.predict(x_test_std)\n",
        "\n",
        "# Calculate and print the Mean Squared Error on the test set\n",
        "test_mse_lasso = mean_squared_error(y_test, yhat_test_lasso)\n",
        "print(f\"Test set MSE for Lasso: {round(test_mse_lasso, 4)}\")"
      ],
      "metadata": {
        "id": "Bp7uWOUCBCHd",
        "colab": {
          "base_uri": "https://localhost:8080/"
        },
        "outputId": "c8d9bc40-c709-4a42-e791-84426e0c7dae"
      },
      "execution_count": null,
      "outputs": [
        {
          "output_type": "stream",
          "name": "stdout",
          "text": [
            "Fitting 5 folds for each of 9 candidates, totalling 45 fits\n",
            "Optimal alpha for Lasso: 0.001\n",
            "Best Lasso Coefficients: [-0.00219299  0.          0.00041926  0.20608871 -0.02003614  0.01219406\n",
            "  0.          0.         -0.01045161  0.00130952  0.03447246 -0.01444883\n",
            " -0.0074044   0.03791501  0.03954131 -0.00429597  0.02125228  0.05156284\n",
            " -0.          0.00525323]\n",
            "Selected predictors for Lasso regression: ['win', 'linux', 'positive_ratio', 'user_reviews', 'price_original', 'helpful', 'funny', 'hours', 'products', 'reviews', 'rating_Mixed', 'rating_Mostly Negative', 'rating_Mostly Positive', 'rating_Overwhelmingly Negative', 'rating_Overwhelmingly Positive', 'date_diff_days']\n",
            "Test set MSE for Lasso: 0.2077\n"
          ]
        }
      ]
    },
    {
      "cell_type": "markdown",
      "source": [
        "### Logistic Regression"
      ],
      "metadata": {
        "id": "C9410fbbBDhT"
      }
    },
    {
      "cell_type": "markdown",
      "source": [
        "default model"
      ],
      "metadata": {
        "id": "wOUhHYVxBL_7"
      }
    },
    {
      "cell_type": "code",
      "source": [
        "# Apply scaling to the training and test sets (important for logistic regression)\n",
        "scaler = StandardScaler()\n",
        "x_train_std = scaler.fit_transform(X_train)  # Applies mean and std of training set\n",
        "x_test_std = scaler.transform(X_test)  # Use only transform to prevent data leakage\n",
        "\n",
        "# Initialize the Logistic Regression model (default settings)\n",
        "log_reg = LogisticRegression()\n",
        "\n",
        "# Fit the default logistic regression model\n",
        "log_reg.fit(x_train_std, y_train)\n",
        "\n",
        "# Predict and evaluate on the test set\n",
        "yhat_test_logreg = log_reg.predict(x_test_std)\n",
        "test_acc_logreg = accuracy_score(y_test, yhat_test_logreg)\n",
        "\n",
        "print(f\"Test set accuracy for default Logistic Regression: {round(test_acc_logreg, 4)}\")"
      ],
      "metadata": {
        "id": "A6ZOopYDBJ6g",
        "colab": {
          "base_uri": "https://localhost:8080/"
        },
        "outputId": "29619648-6a3e-4258-b052-40d4eff3178d"
      },
      "execution_count": null,
      "outputs": [
        {
          "output_type": "stream",
          "name": "stdout",
          "text": [
            "Test set accuracy for default Logistic Regression: 0.6759\n"
          ]
        }
      ]
    },
    {
      "cell_type": "markdown",
      "source": [
        "Grid Search Cross Validation"
      ],
      "metadata": {
        "id": "UxmWuYrtBNfg"
      }
    },
    {
      "cell_type": "code",
      "source": [
        "# Set up the hyperparameter grid for GridSearchCV\n",
        "param_grid = {\n",
        "    'C': np.logspace(-6, 6, 13),  # Regularization strength (inverse of alpha)\n",
        "    'solver': ['liblinear', 'lbfgs', 'newton-cg'],  # Different solvers\n",
        "}\n",
        "\n",
        "# Set up GridSearchCV to search for the best hyperparameters using 5-fold cross-validation\n",
        "grid_search_logreg = GridSearchCV(estimator=log_reg, param_grid=param_grid, cv=5, scoring='accuracy', verbose=1)\n",
        "\n",
        "# Fit the grid search to the training data\n",
        "grid_search_logreg.fit(x_train_std, y_train)\n",
        "\n",
        "# Print the best hyperparameters found by GridSearchCV\n",
        "print(f\"Best parameters from GridSearchCV: {grid_search_logreg.best_params_}\")\n",
        "\n",
        "# Get the best Logistic Regression model from the grid search\n",
        "best_logreg = grid_search_logreg.best_estimator_\n",
        "\n",
        "# Predict and evaluate on the test set with the best model\n",
        "yhat_test_best_logreg = best_logreg.predict(x_test_std)\n",
        "test_acc_best_logreg = accuracy_score(y_test, yhat_test_best_logreg)\n",
        "\n",
        "print(f\"Test set accuracy for tuned Logistic Regression: {round(test_acc_best_logreg, 4)}\")\n",
        "\n",
        "# Print the coefficients of the best model.\n",
        "print(f\"Best Logistic Regression Coefficients: {best_logreg.coef_}\")"
      ],
      "metadata": {
        "id": "JdC63GqGBRsY",
        "colab": {
          "base_uri": "https://localhost:8080/"
        },
        "outputId": "79068bc4-6510-42c0-d096-6558879785f7"
      },
      "execution_count": null,
      "outputs": [
        {
          "output_type": "stream",
          "name": "stdout",
          "text": [
            "Fitting 5 folds for each of 39 candidates, totalling 195 fits\n",
            "Best parameters from GridSearchCV: {'C': np.float64(0.001), 'solver': 'lbfgs'}\n",
            "Test set accuracy for tuned Logistic Regression: 0.6765\n",
            "Best Logistic Regression Coefficients: [[-0.02561755  0.00774077  0.00837818  0.78286596 -0.09109417  0.06597759\n",
            "   0.00590149  0.00206126 -0.17928952  0.04232544  0.15542475 -0.06583135\n",
            "  -0.05730827 -0.0226049  -0.01121247 -0.10215642 -0.01122286  0.2143016\n",
            "  -0.0796795   0.03640604]]\n"
          ]
        }
      ]
    },
    {
      "cell_type": "markdown",
      "source": [
        "### Decision Tree Classifier"
      ],
      "metadata": {
        "id": "6nYICMlP2kxI"
      }
    },
    {
      "cell_type": "code",
      "execution_count": null,
      "metadata": {
        "id": "kCGUV579zjYk",
        "colab": {
          "base_uri": "https://localhost:8080/"
        },
        "outputId": "d840d1f2-2b09-4ed8-a50d-db054fd4e017"
      },
      "outputs": [
        {
          "output_type": "stream",
          "name": "stdout",
          "text": [
            "Best params: {'criterion': 'gini', 'min_impurity_decrease': 1e-06, 'min_samples_leaf': 45, 'min_samples_split': 500}\n",
            "Accuracy: 0.7393810679611651\n",
            "Classes: \n",
            "              precision    recall  f1-score   support\n",
            "\n",
            "       False       0.75      0.73      0.74     11612\n",
            "        True       0.73      0.75      0.74     11460\n",
            "\n",
            "    accuracy                           0.74     23072\n",
            "   macro avg       0.74      0.74      0.74     23072\n",
            "weighted avg       0.74      0.74      0.74     23072\n",
            "\n",
            "Confusion Matrix: \n",
            "[[8479 3133]\n",
            " [2880 8580]]\n"
          ]
        }
      ],
      "source": [
        "from sklearn.model_selection import train_test_split\n",
        "from sklearn.tree import DecisionTreeClassifier\n",
        "from sklearn.model_selection import GridSearchCV\n",
        "from sklearn.metrics import accuracy_score, classification_report, confusion_matrix\n",
        "\n",
        "X_train, X_test, y_train, y_test = train_test_split(X, y, test_size=0.2, random_state=42)\n",
        "\n",
        "params = {\n",
        "    'criterion': ['gini'],\n",
        "    'min_samples_split': [500],\n",
        "    'min_samples_leaf': [45],\n",
        "    'min_impurity_decrease': [0.000001]\n",
        "}\n",
        "model = GridSearchCV(DecisionTreeClassifier(), params)\n",
        "model.fit(X_train, y_train)\n",
        "print(f'Best params: {model.best_params_}')\n",
        "\n",
        "y_pred = model.predict(X_test)\n",
        "accuracy = accuracy_score(y_test, y_pred)\n",
        "print(f'Accuracy: {accuracy}')\n",
        "report = classification_report(y_test, y_pred)\n",
        "print(f'Classes: \\n{report}')\n",
        "confusion = confusion_matrix(y_test, y_pred)\n",
        "print(f'Confusion Matrix: \\n{confusion}')"
      ]
    },
    {
      "cell_type": "markdown",
      "source": [
        "Decision Tree Results with all predictors\n",
        "\n",
        "\n",
        "```\n",
        "Accuracy: 0.665698682\n",
        "Classes:\n",
        "              precision    recall  f1-score   support\n",
        "\n",
        "       False       0.67      0.66      0.67     11612\n",
        "        True       0.66      0.67      0.67     11460\n",
        "\n",
        "    accuracy                           0.67     23072\n",
        "   macro avg       0.67      0.67      0.67     23072\n",
        "weighted avg       0.67      0.67      0.67     23072\n",
        "\n",
        "Confusion Matrix:\n",
        "[[7700 3912]\n",
        " [3801 7659]]\n",
        "```\n",
        "\n"
      ],
      "metadata": {
        "id": "NNf69nKzTF12"
      }
    },
    {
      "cell_type": "markdown",
      "source": [
        "Decision Tree, all predictors, Grid Search CV\n",
        "\n",
        "\n",
        "```\n",
        "Best params: {'criterion': 'gini', 'min_impurity_decrease': 1e-06, 'min_samples_leaf': 45, 'min_samples_split': 500}\n",
        "Accuracy: 0.7403779472954231\n",
        "Classes:\n",
        "              precision    recall  f1-score   support\n",
        "\n",
        "       False       0.75      0.74      0.74     11612\n",
        "        True       0.74      0.75      0.74     11460\n",
        "\n",
        "    accuracy                           0.74     23072\n",
        "   macro avg       0.74      0.74      0.74     23072\n",
        "weighted avg       0.74      0.74      0.74     23072\n",
        "\n",
        "Confusion Matrix:\n",
        "[[8543 3069]\n",
        " [2921 8539]]\n",
        "```\n",
        "\n"
      ],
      "metadata": {
        "id": "X3PqmyEXTNVL"
      }
    },
    {
      "cell_type": "markdown",
      "source": [
        "The Decision Tree test MSE got worse with less predictors."
      ],
      "metadata": {
        "id": "xzrgtVpufNKZ"
      }
    },
    {
      "cell_type": "markdown",
      "source": [
        "### Random Forest"
      ],
      "metadata": {
        "id": "O6MQJxT9BcjG"
      }
    },
    {
      "cell_type": "markdown",
      "source": [
        "default model"
      ],
      "metadata": {
        "id": "9IwD18znBhzG"
      }
    },
    {
      "cell_type": "code",
      "source": [
        "rf = RandomForestClassifier(n_estimators=100, max_depth=1, max_features='sqrt')\n",
        "rf.fit(X_train, y_train)\n",
        "yhat_rf = rf.predict(X_test)\n",
        "mean_squared_error(y_test, yhat_rf)"
      ],
      "metadata": {
        "id": "coCnQGkFcX3D",
        "colab": {
          "base_uri": "https://localhost:8080/"
        },
        "outputId": "20dd363d-5648-4e8d-d171-a8c2413a0270"
      },
      "execution_count": null,
      "outputs": [
        {
          "output_type": "execute_result",
          "data": {
            "text/plain": [
              "0.31839459084604715"
            ]
          },
          "metadata": {},
          "execution_count": 32
        }
      ]
    },
    {
      "cell_type": "markdown",
      "source": [
        "Grid Search Cross Validation"
      ],
      "metadata": {
        "id": "OGi15uOIBjD3"
      }
    },
    {
      "cell_type": "code",
      "source": [
        "# Apply scaling to the training and test sets\n",
        "scaler = StandardScaler()\n",
        "x_train_std = scaler.fit_transform(X_train)  # Applies mean and std of training set\n",
        "x_test_std = scaler.transform(X_test)  # Use only transform to prevent data leakage\n",
        "\n",
        "# Initialize the Random Forest model\n",
        "rf = RandomForestClassifier()\n",
        "\n",
        "# Define the hyperparameter grid for GridSearchCV\n",
        "param_grid = {\n",
        "    'n_estimators': [50],  # Number of trees in the forest\n",
        "    'max_depth': [10, 20, 30],  # Maximum depth of the tree\n",
        "    'min_samples_split': [10],  # Minimum samples required to split an internal node\n",
        "    'min_samples_leaf': [1, 2, 4],  # Minimum samples required to be at a leaf node\n",
        "    'bootstrap': [True],  # Whether bootstrap samples are used when building trees\n",
        "    'random_state': [42]  # Random seed for reproducibility\n",
        "}\n",
        "\n",
        "# Set up GridSearchCV to search for the best hyperparameters using 5-fold cross-validation\n",
        "grid_search_rf = GridSearchCV(estimator=rf, param_grid=param_grid, cv=5, scoring='accuracy', verbose=1, n_jobs=-1)\n",
        "\n",
        "# Fit the grid search to the training data\n",
        "grid_search_rf.fit(x_train_std, y_train)\n",
        "\n",
        "# Print the best hyperparameters found by GridSearchCV\n",
        "print(f\"Best hyperparameters from GridSearchCV: {grid_search_rf.best_params_}\")\n",
        "\n",
        "# Get the best Random Forest model from the grid search\n",
        "best_rf = grid_search_rf.best_estimator_\n",
        "\n",
        "# Predict and evaluate on the test set with the best model\n",
        "yhat_test_rf = best_rf.predict(x_test_std)\n",
        "\n",
        "# Calculate and print the accuracy on the test set\n",
        "test_accuracy_rf = accuracy_score(y_test, yhat_test_rf)\n",
        "print(f\"Test set accuracy for best Random Forest: {round(test_accuracy_rf, 4)}\")\n"
      ],
      "metadata": {
        "id": "ZIWDU1nrBnZQ",
        "colab": {
          "base_uri": "https://localhost:8080/"
        },
        "outputId": "f38c9516-8493-41c1-9efc-70dc506c186b"
      },
      "execution_count": 69,
      "outputs": [
        {
          "output_type": "stream",
          "name": "stdout",
          "text": [
            "Fitting 5 folds for each of 9 candidates, totalling 45 fits\n",
            "Best hyperparameters from GridSearchCV: {'bootstrap': True, 'max_depth': 20, 'min_samples_leaf': 2, 'min_samples_split': 10, 'n_estimators': 50, 'random_state': 42}\n",
            "Test set accuracy for best Random Forest: 0.7541\n"
          ]
        }
      ]
    },
    {
      "cell_type": "code",
      "source": [
        "# Apply scaling to the training and test sets\n",
        "scaler = StandardScaler()\n",
        "x_train_std = scaler.fit_transform(X_train)  # Applies mean and std of training set\n",
        "x_test_std = scaler.transform(X_test)  # Use only transform to prevent data leakage\n",
        "\n",
        "# Initialize the Random Forest model\n",
        "rf = RandomForestClassifier()\n",
        "\n",
        "# Define the hyperparameter grid for GridSearchCV\n",
        "param_grid = {\n",
        "    'n_estimators': [100],  # Number of trees in the forest\n",
        "    'max_depth': [None],  # Maximum depth of the tree\n",
        "    'min_samples_split': [100],  # Minimum samples required to split an internal node\n",
        "    'min_samples_leaf': [40],  # Minimum samples required to be at a leaf node\n",
        "    'bootstrap': [True],  # Whether bootstrap samples are used when building trees\n",
        "    'random_state': [42]  # Random seed for reproducibility\n",
        "}\n",
        "\n",
        "# Set up GridSearchCV to search for the best hyperparameters using 5-fold cross-validation\n",
        "grid_search_rf = GridSearchCV(estimator=rf, param_grid=param_grid, cv=5, scoring='accuracy', verbose=1, n_jobs=-1)\n",
        "\n",
        "# Fit the grid search to the training data\n",
        "grid_search_rf.fit(x_train_std, y_train)\n",
        "\n",
        "# Print the best hyperparameters found by GridSearchCV\n",
        "print(f\"Best hyperparameters from GridSearchCV: {grid_search_rf.best_params_}\")\n",
        "\n",
        "# Get the best Random Forest model from the grid search\n",
        "best_rf = grid_search_rf.best_estimator_\n",
        "\n",
        "# Predict and evaluate on the test set with the best model\n",
        "yhat_test_rf = best_rf.predict(x_test_std)\n",
        "\n",
        "# Calculate and print the accuracy on the test set\n",
        "test_accuracy_rf = accuracy_score(y_test, yhat_test_rf)\n",
        "print(f\"Test set accuracy for best Random Forest: {round(test_accuracy_rf, 4)}\")"
      ],
      "metadata": {
        "id": "P-dbwieYBozk",
        "colab": {
          "base_uri": "https://localhost:8080/"
        },
        "outputId": "9be8d9d8-9bc1-499c-9acb-e7e654ded7ed"
      },
      "execution_count": 70,
      "outputs": [
        {
          "output_type": "stream",
          "name": "stdout",
          "text": [
            "Fitting 5 folds for each of 1 candidates, totalling 5 fits\n",
            "Best hyperparameters from GridSearchCV: {'bootstrap': True, 'max_depth': None, 'min_samples_leaf': 40, 'min_samples_split': 100, 'n_estimators': 100, 'random_state': 42}\n",
            "Test set accuracy for best Random Forest: 0.751\n"
          ]
        }
      ]
    },
    {
      "cell_type": "markdown",
      "source": [
        "Random Forest's performance did not improve with feature selection."
      ],
      "metadata": {
        "id": "TqDjKAQSQmQf"
      }
    },
    {
      "cell_type": "markdown",
      "source": [
        "### Gradient Boosting Classifier"
      ],
      "metadata": {
        "id": "pJzGvybD2p4y"
      }
    },
    {
      "cell_type": "code",
      "execution_count": null,
      "metadata": {
        "id": "nxLveDuj0OyY",
        "colab": {
          "base_uri": "https://localhost:8080/"
        },
        "outputId": "d8ccaf18-fa4a-47a8-8c21-45048b8e4b05"
      },
      "outputs": [
        {
          "output_type": "stream",
          "name": "stdout",
          "text": [
            "Best Hyperparameters:\n",
            "{'learning_rate': 0.3, 'max_depth': 3, 'n_estimators': 250}\n",
            "Accuracy score: 0.7506501386962552\n",
            "\n",
            "Classification Report:\n",
            "              precision    recall  f1-score   support\n",
            "\n",
            "       False       0.76      0.73      0.75     11612\n",
            "        True       0.74      0.77      0.75     11460\n",
            "\n",
            "    accuracy                           0.75     23072\n",
            "   macro avg       0.75      0.75      0.75     23072\n",
            "weighted avg       0.75      0.75      0.75     23072\n",
            "\n",
            "Confusion Matrix: \n",
            "[[8466 3146]\n",
            " [2607 8853]]\n"
          ]
        }
      ],
      "source": [
        "# Grid Search for optimal hyperparameters\n",
        "from sklearn.model_selection import train_test_split, GridSearchCV\n",
        "from sklearn.ensemble import GradientBoostingClassifier\n",
        "from sklearn.metrics import accuracy_score, top_k_accuracy_score, classification_report, confusion_matrix\n",
        "\n",
        "X_train, X_test, y_train, y_test = train_test_split(X, y, test_size=0.2, random_state=42)\n",
        "\n",
        "# Define the model\n",
        "gb_model = GradientBoostingClassifier(random_state=45)\n",
        "\n",
        "# Smart, narrowed grid\n",
        "param_grid = {\n",
        "    'n_estimators': [250],              # Tried 50, 100, 200, 300\n",
        "    'learning_rate': [0.3],            # Most useful values - tried range of [0.01, 3]\n",
        "    'max_depth': [3],                     # Typical tree depths - tried [None, 3, 5]\n",
        "}\n",
        "\n",
        "# Grid search setup\n",
        "grid_search = GridSearchCV(\n",
        "    estimator=gb_model,\n",
        "    param_grid=param_grid\n",
        ")\n",
        "\n",
        "# Run grid search\n",
        "grid_search.fit(X_train, y_train)\n",
        "\n",
        "# Best model and parameters\n",
        "print(\"Best Hyperparameters:\")\n",
        "print(grid_search.best_params_)\n",
        "\n",
        "# Evaluate best model on test set\n",
        "best_model = grid_search.best_estimator_\n",
        "y_pred = best_model.predict(X_test)\n",
        "\n",
        "accuracy = accuracy_score(y_test, y_pred)\n",
        "print(f'Accuracy score: {accuracy}')\n",
        "print(\"\\nClassification Report:\")\n",
        "print(classification_report(y_test, y_pred))\n",
        "confusion = confusion_matrix(y_test, y_pred)\n",
        "print(f'Confusion Matrix: \\n{confusion}')"
      ]
    },
    {
      "cell_type": "markdown",
      "metadata": {
        "id": "O81vrBg5FxKi"
      },
      "source": [
        "Gradient Boosting with all 20 predictors:\n",
        "\n",
        "```\n",
        "Best Hyperparameters:\n",
        "{'learning_rate': 0.3, 'max_depth': 3, 'n_estimators': 250}\n",
        "Accuracy score: 0.750996879334258\n",
        "\n",
        "Classification Report:\n",
        "              precision    recall  f1-score   support\n",
        "\n",
        "       False       0.76      0.73      0.75     11612\n",
        "        True       0.74      0.77      0.75     11460\n",
        "\n",
        "    accuracy                           0.75     23072\n",
        "   macro avg       0.75      0.75      0.75     23072\n",
        "weighted avg       0.75      0.75      0.75     23072\n",
        "\n",
        "Confusion Matrix:\n",
        "[[8511 3101]\n",
        " [2644 8816]]\n",
        "```"
      ]
    },
    {
      "cell_type": "markdown",
      "metadata": {
        "id": "lTEFUdPnIHin"
      },
      "source": [
        "Gradient Boosting's performance did not improve with feature selection."
      ]
    },
    {
      "cell_type": "markdown",
      "source": [
        "###ADA Boost###"
      ],
      "metadata": {
        "id": "mcWRo0xqCbwE"
      }
    },
    {
      "cell_type": "code",
      "source": [
        "from sklearn.model_selection import train_test_split, GridSearchCV\n",
        "from sklearn.ensemble import AdaBoostClassifier\n",
        "from sklearn.metrics import accuracy_score, classification_report, confusion_matrix"
      ],
      "metadata": {
        "id": "-jCkQ3m1Cm1W"
      },
      "execution_count": null,
      "outputs": []
    },
    {
      "cell_type": "code",
      "source": [
        "# Split the data into training and testing sets\n",
        "X_train, X_test, y_train, y_test = train_test_split(X, y, test_size=0.2, random_state=42)"
      ],
      "metadata": {
        "id": "y_or8ahJ2KPK"
      },
      "execution_count": null,
      "outputs": []
    },
    {
      "cell_type": "code",
      "source": [
        "# Define the range of hyperparameters we want to try for n_estimators and learning_rate\n",
        "param_grid = {\n",
        "    'n_estimators': [100,200,300],\n",
        "    'learning_rate': [1.5, 2, 2.5]\n",
        "}"
      ],
      "metadata": {
        "id": "3ei1oORvCrfX"
      },
      "execution_count": null,
      "outputs": []
    },
    {
      "cell_type": "code",
      "source": [
        "# Set up a grid search with 3-fold CV to find the best combination of hyperparameters\n",
        "grid_search = GridSearchCV(\n",
        "    AdaBoostClassifier(random_state=42),\n",
        "    param_grid=param_grid,\n",
        "    scoring='accuracy',\n",
        "    cv=3,\n",
        "    n_jobs=-1,\n",
        "    verbose=1\n",
        ")\n",
        "grid_search.fit(X_train, y_train)"
      ],
      "metadata": {
        "id": "WPj-utKHCukL",
        "colab": {
          "base_uri": "https://localhost:8080/",
          "height": 183
        },
        "outputId": "1889f0ad-27fe-48c6-d3a4-2c13dd00072a"
      },
      "execution_count": null,
      "outputs": [
        {
          "output_type": "stream",
          "name": "stdout",
          "text": [
            "Fitting 3 folds for each of 9 candidates, totalling 27 fits\n"
          ]
        },
        {
          "output_type": "execute_result",
          "data": {
            "text/plain": [
              "GridSearchCV(cv=3, estimator=AdaBoostClassifier(random_state=42), n_jobs=-1,\n",
              "             param_grid={'learning_rate': [1.5, 2, 2.5],\n",
              "                         'n_estimators': [100, 200, 300]},\n",
              "             scoring='accuracy', verbose=1)"
            ],
            "text/html": [
              "<style>#sk-container-id-1 {\n",
              "  /* Definition of color scheme common for light and dark mode */\n",
              "  --sklearn-color-text: #000;\n",
              "  --sklearn-color-text-muted: #666;\n",
              "  --sklearn-color-line: gray;\n",
              "  /* Definition of color scheme for unfitted estimators */\n",
              "  --sklearn-color-unfitted-level-0: #fff5e6;\n",
              "  --sklearn-color-unfitted-level-1: #f6e4d2;\n",
              "  --sklearn-color-unfitted-level-2: #ffe0b3;\n",
              "  --sklearn-color-unfitted-level-3: chocolate;\n",
              "  /* Definition of color scheme for fitted estimators */\n",
              "  --sklearn-color-fitted-level-0: #f0f8ff;\n",
              "  --sklearn-color-fitted-level-1: #d4ebff;\n",
              "  --sklearn-color-fitted-level-2: #b3dbfd;\n",
              "  --sklearn-color-fitted-level-3: cornflowerblue;\n",
              "\n",
              "  /* Specific color for light theme */\n",
              "  --sklearn-color-text-on-default-background: var(--sg-text-color, var(--theme-code-foreground, var(--jp-content-font-color1, black)));\n",
              "  --sklearn-color-background: var(--sg-background-color, var(--theme-background, var(--jp-layout-color0, white)));\n",
              "  --sklearn-color-border-box: var(--sg-text-color, var(--theme-code-foreground, var(--jp-content-font-color1, black)));\n",
              "  --sklearn-color-icon: #696969;\n",
              "\n",
              "  @media (prefers-color-scheme: dark) {\n",
              "    /* Redefinition of color scheme for dark theme */\n",
              "    --sklearn-color-text-on-default-background: var(--sg-text-color, var(--theme-code-foreground, var(--jp-content-font-color1, white)));\n",
              "    --sklearn-color-background: var(--sg-background-color, var(--theme-background, var(--jp-layout-color0, #111)));\n",
              "    --sklearn-color-border-box: var(--sg-text-color, var(--theme-code-foreground, var(--jp-content-font-color1, white)));\n",
              "    --sklearn-color-icon: #878787;\n",
              "  }\n",
              "}\n",
              "\n",
              "#sk-container-id-1 {\n",
              "  color: var(--sklearn-color-text);\n",
              "}\n",
              "\n",
              "#sk-container-id-1 pre {\n",
              "  padding: 0;\n",
              "}\n",
              "\n",
              "#sk-container-id-1 input.sk-hidden--visually {\n",
              "  border: 0;\n",
              "  clip: rect(1px 1px 1px 1px);\n",
              "  clip: rect(1px, 1px, 1px, 1px);\n",
              "  height: 1px;\n",
              "  margin: -1px;\n",
              "  overflow: hidden;\n",
              "  padding: 0;\n",
              "  position: absolute;\n",
              "  width: 1px;\n",
              "}\n",
              "\n",
              "#sk-container-id-1 div.sk-dashed-wrapped {\n",
              "  border: 1px dashed var(--sklearn-color-line);\n",
              "  margin: 0 0.4em 0.5em 0.4em;\n",
              "  box-sizing: border-box;\n",
              "  padding-bottom: 0.4em;\n",
              "  background-color: var(--sklearn-color-background);\n",
              "}\n",
              "\n",
              "#sk-container-id-1 div.sk-container {\n",
              "  /* jupyter's `normalize.less` sets `[hidden] { display: none; }`\n",
              "     but bootstrap.min.css set `[hidden] { display: none !important; }`\n",
              "     so we also need the `!important` here to be able to override the\n",
              "     default hidden behavior on the sphinx rendered scikit-learn.org.\n",
              "     See: https://github.com/scikit-learn/scikit-learn/issues/21755 */\n",
              "  display: inline-block !important;\n",
              "  position: relative;\n",
              "}\n",
              "\n",
              "#sk-container-id-1 div.sk-text-repr-fallback {\n",
              "  display: none;\n",
              "}\n",
              "\n",
              "div.sk-parallel-item,\n",
              "div.sk-serial,\n",
              "div.sk-item {\n",
              "  /* draw centered vertical line to link estimators */\n",
              "  background-image: linear-gradient(var(--sklearn-color-text-on-default-background), var(--sklearn-color-text-on-default-background));\n",
              "  background-size: 2px 100%;\n",
              "  background-repeat: no-repeat;\n",
              "  background-position: center center;\n",
              "}\n",
              "\n",
              "/* Parallel-specific style estimator block */\n",
              "\n",
              "#sk-container-id-1 div.sk-parallel-item::after {\n",
              "  content: \"\";\n",
              "  width: 100%;\n",
              "  border-bottom: 2px solid var(--sklearn-color-text-on-default-background);\n",
              "  flex-grow: 1;\n",
              "}\n",
              "\n",
              "#sk-container-id-1 div.sk-parallel {\n",
              "  display: flex;\n",
              "  align-items: stretch;\n",
              "  justify-content: center;\n",
              "  background-color: var(--sklearn-color-background);\n",
              "  position: relative;\n",
              "}\n",
              "\n",
              "#sk-container-id-1 div.sk-parallel-item {\n",
              "  display: flex;\n",
              "  flex-direction: column;\n",
              "}\n",
              "\n",
              "#sk-container-id-1 div.sk-parallel-item:first-child::after {\n",
              "  align-self: flex-end;\n",
              "  width: 50%;\n",
              "}\n",
              "\n",
              "#sk-container-id-1 div.sk-parallel-item:last-child::after {\n",
              "  align-self: flex-start;\n",
              "  width: 50%;\n",
              "}\n",
              "\n",
              "#sk-container-id-1 div.sk-parallel-item:only-child::after {\n",
              "  width: 0;\n",
              "}\n",
              "\n",
              "/* Serial-specific style estimator block */\n",
              "\n",
              "#sk-container-id-1 div.sk-serial {\n",
              "  display: flex;\n",
              "  flex-direction: column;\n",
              "  align-items: center;\n",
              "  background-color: var(--sklearn-color-background);\n",
              "  padding-right: 1em;\n",
              "  padding-left: 1em;\n",
              "}\n",
              "\n",
              "\n",
              "/* Toggleable style: style used for estimator/Pipeline/ColumnTransformer box that is\n",
              "clickable and can be expanded/collapsed.\n",
              "- Pipeline and ColumnTransformer use this feature and define the default style\n",
              "- Estimators will overwrite some part of the style using the `sk-estimator` class\n",
              "*/\n",
              "\n",
              "/* Pipeline and ColumnTransformer style (default) */\n",
              "\n",
              "#sk-container-id-1 div.sk-toggleable {\n",
              "  /* Default theme specific background. It is overwritten whether we have a\n",
              "  specific estimator or a Pipeline/ColumnTransformer */\n",
              "  background-color: var(--sklearn-color-background);\n",
              "}\n",
              "\n",
              "/* Toggleable label */\n",
              "#sk-container-id-1 label.sk-toggleable__label {\n",
              "  cursor: pointer;\n",
              "  display: flex;\n",
              "  width: 100%;\n",
              "  margin-bottom: 0;\n",
              "  padding: 0.5em;\n",
              "  box-sizing: border-box;\n",
              "  text-align: center;\n",
              "  align-items: start;\n",
              "  justify-content: space-between;\n",
              "  gap: 0.5em;\n",
              "}\n",
              "\n",
              "#sk-container-id-1 label.sk-toggleable__label .caption {\n",
              "  font-size: 0.6rem;\n",
              "  font-weight: lighter;\n",
              "  color: var(--sklearn-color-text-muted);\n",
              "}\n",
              "\n",
              "#sk-container-id-1 label.sk-toggleable__label-arrow:before {\n",
              "  /* Arrow on the left of the label */\n",
              "  content: \"▸\";\n",
              "  float: left;\n",
              "  margin-right: 0.25em;\n",
              "  color: var(--sklearn-color-icon);\n",
              "}\n",
              "\n",
              "#sk-container-id-1 label.sk-toggleable__label-arrow:hover:before {\n",
              "  color: var(--sklearn-color-text);\n",
              "}\n",
              "\n",
              "/* Toggleable content - dropdown */\n",
              "\n",
              "#sk-container-id-1 div.sk-toggleable__content {\n",
              "  max-height: 0;\n",
              "  max-width: 0;\n",
              "  overflow: hidden;\n",
              "  text-align: left;\n",
              "  /* unfitted */\n",
              "  background-color: var(--sklearn-color-unfitted-level-0);\n",
              "}\n",
              "\n",
              "#sk-container-id-1 div.sk-toggleable__content.fitted {\n",
              "  /* fitted */\n",
              "  background-color: var(--sklearn-color-fitted-level-0);\n",
              "}\n",
              "\n",
              "#sk-container-id-1 div.sk-toggleable__content pre {\n",
              "  margin: 0.2em;\n",
              "  border-radius: 0.25em;\n",
              "  color: var(--sklearn-color-text);\n",
              "  /* unfitted */\n",
              "  background-color: var(--sklearn-color-unfitted-level-0);\n",
              "}\n",
              "\n",
              "#sk-container-id-1 div.sk-toggleable__content.fitted pre {\n",
              "  /* unfitted */\n",
              "  background-color: var(--sklearn-color-fitted-level-0);\n",
              "}\n",
              "\n",
              "#sk-container-id-1 input.sk-toggleable__control:checked~div.sk-toggleable__content {\n",
              "  /* Expand drop-down */\n",
              "  max-height: 200px;\n",
              "  max-width: 100%;\n",
              "  overflow: auto;\n",
              "}\n",
              "\n",
              "#sk-container-id-1 input.sk-toggleable__control:checked~label.sk-toggleable__label-arrow:before {\n",
              "  content: \"▾\";\n",
              "}\n",
              "\n",
              "/* Pipeline/ColumnTransformer-specific style */\n",
              "\n",
              "#sk-container-id-1 div.sk-label input.sk-toggleable__control:checked~label.sk-toggleable__label {\n",
              "  color: var(--sklearn-color-text);\n",
              "  background-color: var(--sklearn-color-unfitted-level-2);\n",
              "}\n",
              "\n",
              "#sk-container-id-1 div.sk-label.fitted input.sk-toggleable__control:checked~label.sk-toggleable__label {\n",
              "  background-color: var(--sklearn-color-fitted-level-2);\n",
              "}\n",
              "\n",
              "/* Estimator-specific style */\n",
              "\n",
              "/* Colorize estimator box */\n",
              "#sk-container-id-1 div.sk-estimator input.sk-toggleable__control:checked~label.sk-toggleable__label {\n",
              "  /* unfitted */\n",
              "  background-color: var(--sklearn-color-unfitted-level-2);\n",
              "}\n",
              "\n",
              "#sk-container-id-1 div.sk-estimator.fitted input.sk-toggleable__control:checked~label.sk-toggleable__label {\n",
              "  /* fitted */\n",
              "  background-color: var(--sklearn-color-fitted-level-2);\n",
              "}\n",
              "\n",
              "#sk-container-id-1 div.sk-label label.sk-toggleable__label,\n",
              "#sk-container-id-1 div.sk-label label {\n",
              "  /* The background is the default theme color */\n",
              "  color: var(--sklearn-color-text-on-default-background);\n",
              "}\n",
              "\n",
              "/* On hover, darken the color of the background */\n",
              "#sk-container-id-1 div.sk-label:hover label.sk-toggleable__label {\n",
              "  color: var(--sklearn-color-text);\n",
              "  background-color: var(--sklearn-color-unfitted-level-2);\n",
              "}\n",
              "\n",
              "/* Label box, darken color on hover, fitted */\n",
              "#sk-container-id-1 div.sk-label.fitted:hover label.sk-toggleable__label.fitted {\n",
              "  color: var(--sklearn-color-text);\n",
              "  background-color: var(--sklearn-color-fitted-level-2);\n",
              "}\n",
              "\n",
              "/* Estimator label */\n",
              "\n",
              "#sk-container-id-1 div.sk-label label {\n",
              "  font-family: monospace;\n",
              "  font-weight: bold;\n",
              "  display: inline-block;\n",
              "  line-height: 1.2em;\n",
              "}\n",
              "\n",
              "#sk-container-id-1 div.sk-label-container {\n",
              "  text-align: center;\n",
              "}\n",
              "\n",
              "/* Estimator-specific */\n",
              "#sk-container-id-1 div.sk-estimator {\n",
              "  font-family: monospace;\n",
              "  border: 1px dotted var(--sklearn-color-border-box);\n",
              "  border-radius: 0.25em;\n",
              "  box-sizing: border-box;\n",
              "  margin-bottom: 0.5em;\n",
              "  /* unfitted */\n",
              "  background-color: var(--sklearn-color-unfitted-level-0);\n",
              "}\n",
              "\n",
              "#sk-container-id-1 div.sk-estimator.fitted {\n",
              "  /* fitted */\n",
              "  background-color: var(--sklearn-color-fitted-level-0);\n",
              "}\n",
              "\n",
              "/* on hover */\n",
              "#sk-container-id-1 div.sk-estimator:hover {\n",
              "  /* unfitted */\n",
              "  background-color: var(--sklearn-color-unfitted-level-2);\n",
              "}\n",
              "\n",
              "#sk-container-id-1 div.sk-estimator.fitted:hover {\n",
              "  /* fitted */\n",
              "  background-color: var(--sklearn-color-fitted-level-2);\n",
              "}\n",
              "\n",
              "/* Specification for estimator info (e.g. \"i\" and \"?\") */\n",
              "\n",
              "/* Common style for \"i\" and \"?\" */\n",
              "\n",
              ".sk-estimator-doc-link,\n",
              "a:link.sk-estimator-doc-link,\n",
              "a:visited.sk-estimator-doc-link {\n",
              "  float: right;\n",
              "  font-size: smaller;\n",
              "  line-height: 1em;\n",
              "  font-family: monospace;\n",
              "  background-color: var(--sklearn-color-background);\n",
              "  border-radius: 1em;\n",
              "  height: 1em;\n",
              "  width: 1em;\n",
              "  text-decoration: none !important;\n",
              "  margin-left: 0.5em;\n",
              "  text-align: center;\n",
              "  /* unfitted */\n",
              "  border: var(--sklearn-color-unfitted-level-1) 1pt solid;\n",
              "  color: var(--sklearn-color-unfitted-level-1);\n",
              "}\n",
              "\n",
              ".sk-estimator-doc-link.fitted,\n",
              "a:link.sk-estimator-doc-link.fitted,\n",
              "a:visited.sk-estimator-doc-link.fitted {\n",
              "  /* fitted */\n",
              "  border: var(--sklearn-color-fitted-level-1) 1pt solid;\n",
              "  color: var(--sklearn-color-fitted-level-1);\n",
              "}\n",
              "\n",
              "/* On hover */\n",
              "div.sk-estimator:hover .sk-estimator-doc-link:hover,\n",
              ".sk-estimator-doc-link:hover,\n",
              "div.sk-label-container:hover .sk-estimator-doc-link:hover,\n",
              ".sk-estimator-doc-link:hover {\n",
              "  /* unfitted */\n",
              "  background-color: var(--sklearn-color-unfitted-level-3);\n",
              "  color: var(--sklearn-color-background);\n",
              "  text-decoration: none;\n",
              "}\n",
              "\n",
              "div.sk-estimator.fitted:hover .sk-estimator-doc-link.fitted:hover,\n",
              ".sk-estimator-doc-link.fitted:hover,\n",
              "div.sk-label-container:hover .sk-estimator-doc-link.fitted:hover,\n",
              ".sk-estimator-doc-link.fitted:hover {\n",
              "  /* fitted */\n",
              "  background-color: var(--sklearn-color-fitted-level-3);\n",
              "  color: var(--sklearn-color-background);\n",
              "  text-decoration: none;\n",
              "}\n",
              "\n",
              "/* Span, style for the box shown on hovering the info icon */\n",
              ".sk-estimator-doc-link span {\n",
              "  display: none;\n",
              "  z-index: 9999;\n",
              "  position: relative;\n",
              "  font-weight: normal;\n",
              "  right: .2ex;\n",
              "  padding: .5ex;\n",
              "  margin: .5ex;\n",
              "  width: min-content;\n",
              "  min-width: 20ex;\n",
              "  max-width: 50ex;\n",
              "  color: var(--sklearn-color-text);\n",
              "  box-shadow: 2pt 2pt 4pt #999;\n",
              "  /* unfitted */\n",
              "  background: var(--sklearn-color-unfitted-level-0);\n",
              "  border: .5pt solid var(--sklearn-color-unfitted-level-3);\n",
              "}\n",
              "\n",
              ".sk-estimator-doc-link.fitted span {\n",
              "  /* fitted */\n",
              "  background: var(--sklearn-color-fitted-level-0);\n",
              "  border: var(--sklearn-color-fitted-level-3);\n",
              "}\n",
              "\n",
              ".sk-estimator-doc-link:hover span {\n",
              "  display: block;\n",
              "}\n",
              "\n",
              "/* \"?\"-specific style due to the `<a>` HTML tag */\n",
              "\n",
              "#sk-container-id-1 a.estimator_doc_link {\n",
              "  float: right;\n",
              "  font-size: 1rem;\n",
              "  line-height: 1em;\n",
              "  font-family: monospace;\n",
              "  background-color: var(--sklearn-color-background);\n",
              "  border-radius: 1rem;\n",
              "  height: 1rem;\n",
              "  width: 1rem;\n",
              "  text-decoration: none;\n",
              "  /* unfitted */\n",
              "  color: var(--sklearn-color-unfitted-level-1);\n",
              "  border: var(--sklearn-color-unfitted-level-1) 1pt solid;\n",
              "}\n",
              "\n",
              "#sk-container-id-1 a.estimator_doc_link.fitted {\n",
              "  /* fitted */\n",
              "  border: var(--sklearn-color-fitted-level-1) 1pt solid;\n",
              "  color: var(--sklearn-color-fitted-level-1);\n",
              "}\n",
              "\n",
              "/* On hover */\n",
              "#sk-container-id-1 a.estimator_doc_link:hover {\n",
              "  /* unfitted */\n",
              "  background-color: var(--sklearn-color-unfitted-level-3);\n",
              "  color: var(--sklearn-color-background);\n",
              "  text-decoration: none;\n",
              "}\n",
              "\n",
              "#sk-container-id-1 a.estimator_doc_link.fitted:hover {\n",
              "  /* fitted */\n",
              "  background-color: var(--sklearn-color-fitted-level-3);\n",
              "}\n",
              "</style><div id=\"sk-container-id-1\" class=\"sk-top-container\"><div class=\"sk-text-repr-fallback\"><pre>GridSearchCV(cv=3, estimator=AdaBoostClassifier(random_state=42), n_jobs=-1,\n",
              "             param_grid={&#x27;learning_rate&#x27;: [1.5, 2, 2.5],\n",
              "                         &#x27;n_estimators&#x27;: [100, 200, 300]},\n",
              "             scoring=&#x27;accuracy&#x27;, verbose=1)</pre><b>In a Jupyter environment, please rerun this cell to show the HTML representation or trust the notebook. <br />On GitHub, the HTML representation is unable to render, please try loading this page with nbviewer.org.</b></div><div class=\"sk-container\" hidden><div class=\"sk-item sk-dashed-wrapped\"><div class=\"sk-label-container\"><div class=\"sk-label fitted sk-toggleable\"><input class=\"sk-toggleable__control sk-hidden--visually\" id=\"sk-estimator-id-1\" type=\"checkbox\" ><label for=\"sk-estimator-id-1\" class=\"sk-toggleable__label fitted sk-toggleable__label-arrow\"><div><div>GridSearchCV</div></div><div><a class=\"sk-estimator-doc-link fitted\" rel=\"noreferrer\" target=\"_blank\" href=\"https://scikit-learn.org/1.6/modules/generated/sklearn.model_selection.GridSearchCV.html\">?<span>Documentation for GridSearchCV</span></a><span class=\"sk-estimator-doc-link fitted\">i<span>Fitted</span></span></div></label><div class=\"sk-toggleable__content fitted\"><pre>GridSearchCV(cv=3, estimator=AdaBoostClassifier(random_state=42), n_jobs=-1,\n",
              "             param_grid={&#x27;learning_rate&#x27;: [1.5, 2, 2.5],\n",
              "                         &#x27;n_estimators&#x27;: [100, 200, 300]},\n",
              "             scoring=&#x27;accuracy&#x27;, verbose=1)</pre></div> </div></div><div class=\"sk-parallel\"><div class=\"sk-parallel-item\"><div class=\"sk-item\"><div class=\"sk-label-container\"><div class=\"sk-label fitted sk-toggleable\"><input class=\"sk-toggleable__control sk-hidden--visually\" id=\"sk-estimator-id-2\" type=\"checkbox\" ><label for=\"sk-estimator-id-2\" class=\"sk-toggleable__label fitted sk-toggleable__label-arrow\"><div><div>best_estimator_: AdaBoostClassifier</div></div></label><div class=\"sk-toggleable__content fitted\"><pre>AdaBoostClassifier(learning_rate=1.5, n_estimators=300, random_state=42)</pre></div> </div></div><div class=\"sk-serial\"><div class=\"sk-item\"><div class=\"sk-estimator fitted sk-toggleable\"><input class=\"sk-toggleable__control sk-hidden--visually\" id=\"sk-estimator-id-3\" type=\"checkbox\" ><label for=\"sk-estimator-id-3\" class=\"sk-toggleable__label fitted sk-toggleable__label-arrow\"><div><div>AdaBoostClassifier</div></div><div><a class=\"sk-estimator-doc-link fitted\" rel=\"noreferrer\" target=\"_blank\" href=\"https://scikit-learn.org/1.6/modules/generated/sklearn.ensemble.AdaBoostClassifier.html\">?<span>Documentation for AdaBoostClassifier</span></a></div></label><div class=\"sk-toggleable__content fitted\"><pre>AdaBoostClassifier(learning_rate=1.5, n_estimators=300, random_state=42)</pre></div> </div></div></div></div></div></div></div></div></div>"
            ]
          },
          "metadata": {},
          "execution_count": 39
        }
      ]
    },
    {
      "cell_type": "code",
      "source": [
        "# extract the best model found & print out its best hyperparameters\n",
        "best_ada = grid_search.best_estimator_\n",
        "print(\"Best Hyperparameters:\", grid_search.best_params_)"
      ],
      "metadata": {
        "id": "trrEbrIPCycl",
        "colab": {
          "base_uri": "https://localhost:8080/"
        },
        "outputId": "48e8d87a-87d3-4b63-9095-84e8b930c35b"
      },
      "execution_count": null,
      "outputs": [
        {
          "output_type": "stream",
          "name": "stdout",
          "text": [
            "Best Hyperparameters: {'learning_rate': 1.5, 'n_estimators': 300}\n"
          ]
        }
      ]
    },
    {
      "cell_type": "code",
      "source": [
        "# Use the tuned AdaBoost model to make predictions on the test set\n",
        "y_pred = best_ada.predict(X_test)"
      ],
      "metadata": {
        "id": "EJokuWpYC0vP"
      },
      "execution_count": null,
      "outputs": []
    },
    {
      "cell_type": "code",
      "source": [
        "# Calculate and print the overall accuracy on the test data\n",
        "accuracy = accuracy_score(y_test, y_pred)\n",
        "print(f'Accuracy: {accuracy}')\n",
        "\n",
        "# Generate and display a detailed classification report (precision, recall, f1-score)\n",
        "report = classification_report(y_test, y_pred)\n",
        "print(f'Classes: \\n{report}')\n",
        "\n",
        "# Compute and print the confusion matrix to see true vs. predicted class counts\n",
        "confusion = confusion_matrix(y_test, y_pred)\n",
        "print(f'Confusion Matrix: \\n{confusion}')"
      ],
      "metadata": {
        "id": "TSqO-2eDC4Di",
        "colab": {
          "base_uri": "https://localhost:8080/"
        },
        "outputId": "e1895253-2648-4c84-c631-fbd901547ba8"
      },
      "execution_count": null,
      "outputs": [
        {
          "output_type": "stream",
          "name": "stdout",
          "text": [
            "Accuracy: 0.7417215672676838\n",
            "Classes: \n",
            "              precision    recall  f1-score   support\n",
            "\n",
            "       False       0.76      0.71      0.74     11612\n",
            "        True       0.73      0.77      0.75     11460\n",
            "\n",
            "    accuracy                           0.74     23072\n",
            "   macro avg       0.74      0.74      0.74     23072\n",
            "weighted avg       0.74      0.74      0.74     23072\n",
            "\n",
            "Confusion Matrix: \n",
            "[[8295 3317]\n",
            " [2642 8818]]\n"
          ]
        }
      ]
    },
    {
      "cell_type": "markdown",
      "source": [
        "### Best Model Evaluation on Out-of-Bag Steam Data"
      ],
      "metadata": {
        "id": "ej9yRL5UOPk2"
      }
    },
    {
      "cell_type": "code",
      "source": [
        "# Get out of bag sample to test robustness of model in predicting recommendations\n",
        "new_entries_balanced = pd.read_csv('/content/drive/MyDrive//new_entries_balanced.csv')\n",
        "\n",
        "# create dummies for 'rating'\n",
        "dummy_df = pd.get_dummies(new_entries_balanced[\"rating\"], prefix=\"rating\")\n",
        "\n",
        "# remove the original 'rating' column\n",
        "new_entries_balanced = new_entries_balanced.drop(\"rating\", axis=1)\n",
        "\n",
        "# join the dummy variables back to the original DataFrame\n",
        "new_entries_balanced = pd.concat([new_entries_balanced, dummy_df], axis=1)\n",
        "\n",
        "# Convert 'date_release' and 'date' to datetime format\n",
        "new_entries_balanced['date_release'] = pd.to_datetime(new_entries_balanced['date_release'])\n",
        "new_entries_balanced['date'] = pd.to_datetime(new_entries_balanced['date'])\n",
        "\n",
        "# Create a new column with the difference in dates\n",
        "new_entries_balanced['date_diff'] = new_entries_balanced['date'] - new_entries_balanced['date_release']\n",
        "\n",
        "new_entries_balanced['date_diff_days'] = new_entries_balanced['date_diff'].dt.days # this column will represent the number of days the review was made after the game was released\n",
        "\n",
        "# remove the original 'date_diff', 'date' and 'date_release' column\n",
        "new_entries_balanced = new_entries_balanced.drop(columns=['date', 'date_release', 'date_diff'], axis=1)\n",
        "\n",
        "new_entries_balanced.head()\n",
        "\n",
        "potential_predictors = [col for col in new_entries_balanced.columns if col not in ['app_id', 'user_id', 'review_id', 'title', 'price_final', 'is_recommended']]\n",
        "\n",
        "X_new = new_entries_balanced[potential_predictors]\n",
        "y_new = new_entries_balanced['is_recommended']"
      ],
      "metadata": {
        "id": "IMj8GNmmqNLQ"
      },
      "execution_count": 80,
      "outputs": []
    },
    {
      "cell_type": "code",
      "source": [
        "params = {'bootstrap': True, 'max_depth': 20, 'min_samples_leaf': 2, 'min_samples_split': 10, 'n_estimators': 50, 'random_state': 42}\n",
        "best_rf = RandomForestClassifier(**params)\n",
        "best_rf.fit(X_train, y_train)"
      ],
      "metadata": {
        "colab": {
          "base_uri": "https://localhost:8080/",
          "height": 97
        },
        "id": "IURCDqxqHnjO",
        "outputId": "c002e625-73a2-4c24-ca05-66a071f3b21c"
      },
      "execution_count": 83,
      "outputs": [
        {
          "output_type": "execute_result",
          "data": {
            "text/plain": [
              "RandomForestClassifier(max_depth=20, min_samples_leaf=2, min_samples_split=10,\n",
              "                       n_estimators=50, random_state=42)"
            ],
            "text/html": [
              "<style>#sk-container-id-4 {\n",
              "  /* Definition of color scheme common for light and dark mode */\n",
              "  --sklearn-color-text: #000;\n",
              "  --sklearn-color-text-muted: #666;\n",
              "  --sklearn-color-line: gray;\n",
              "  /* Definition of color scheme for unfitted estimators */\n",
              "  --sklearn-color-unfitted-level-0: #fff5e6;\n",
              "  --sklearn-color-unfitted-level-1: #f6e4d2;\n",
              "  --sklearn-color-unfitted-level-2: #ffe0b3;\n",
              "  --sklearn-color-unfitted-level-3: chocolate;\n",
              "  /* Definition of color scheme for fitted estimators */\n",
              "  --sklearn-color-fitted-level-0: #f0f8ff;\n",
              "  --sklearn-color-fitted-level-1: #d4ebff;\n",
              "  --sklearn-color-fitted-level-2: #b3dbfd;\n",
              "  --sklearn-color-fitted-level-3: cornflowerblue;\n",
              "\n",
              "  /* Specific color for light theme */\n",
              "  --sklearn-color-text-on-default-background: var(--sg-text-color, var(--theme-code-foreground, var(--jp-content-font-color1, black)));\n",
              "  --sklearn-color-background: var(--sg-background-color, var(--theme-background, var(--jp-layout-color0, white)));\n",
              "  --sklearn-color-border-box: var(--sg-text-color, var(--theme-code-foreground, var(--jp-content-font-color1, black)));\n",
              "  --sklearn-color-icon: #696969;\n",
              "\n",
              "  @media (prefers-color-scheme: dark) {\n",
              "    /* Redefinition of color scheme for dark theme */\n",
              "    --sklearn-color-text-on-default-background: var(--sg-text-color, var(--theme-code-foreground, var(--jp-content-font-color1, white)));\n",
              "    --sklearn-color-background: var(--sg-background-color, var(--theme-background, var(--jp-layout-color0, #111)));\n",
              "    --sklearn-color-border-box: var(--sg-text-color, var(--theme-code-foreground, var(--jp-content-font-color1, white)));\n",
              "    --sklearn-color-icon: #878787;\n",
              "  }\n",
              "}\n",
              "\n",
              "#sk-container-id-4 {\n",
              "  color: var(--sklearn-color-text);\n",
              "}\n",
              "\n",
              "#sk-container-id-4 pre {\n",
              "  padding: 0;\n",
              "}\n",
              "\n",
              "#sk-container-id-4 input.sk-hidden--visually {\n",
              "  border: 0;\n",
              "  clip: rect(1px 1px 1px 1px);\n",
              "  clip: rect(1px, 1px, 1px, 1px);\n",
              "  height: 1px;\n",
              "  margin: -1px;\n",
              "  overflow: hidden;\n",
              "  padding: 0;\n",
              "  position: absolute;\n",
              "  width: 1px;\n",
              "}\n",
              "\n",
              "#sk-container-id-4 div.sk-dashed-wrapped {\n",
              "  border: 1px dashed var(--sklearn-color-line);\n",
              "  margin: 0 0.4em 0.5em 0.4em;\n",
              "  box-sizing: border-box;\n",
              "  padding-bottom: 0.4em;\n",
              "  background-color: var(--sklearn-color-background);\n",
              "}\n",
              "\n",
              "#sk-container-id-4 div.sk-container {\n",
              "  /* jupyter's `normalize.less` sets `[hidden] { display: none; }`\n",
              "     but bootstrap.min.css set `[hidden] { display: none !important; }`\n",
              "     so we also need the `!important` here to be able to override the\n",
              "     default hidden behavior on the sphinx rendered scikit-learn.org.\n",
              "     See: https://github.com/scikit-learn/scikit-learn/issues/21755 */\n",
              "  display: inline-block !important;\n",
              "  position: relative;\n",
              "}\n",
              "\n",
              "#sk-container-id-4 div.sk-text-repr-fallback {\n",
              "  display: none;\n",
              "}\n",
              "\n",
              "div.sk-parallel-item,\n",
              "div.sk-serial,\n",
              "div.sk-item {\n",
              "  /* draw centered vertical line to link estimators */\n",
              "  background-image: linear-gradient(var(--sklearn-color-text-on-default-background), var(--sklearn-color-text-on-default-background));\n",
              "  background-size: 2px 100%;\n",
              "  background-repeat: no-repeat;\n",
              "  background-position: center center;\n",
              "}\n",
              "\n",
              "/* Parallel-specific style estimator block */\n",
              "\n",
              "#sk-container-id-4 div.sk-parallel-item::after {\n",
              "  content: \"\";\n",
              "  width: 100%;\n",
              "  border-bottom: 2px solid var(--sklearn-color-text-on-default-background);\n",
              "  flex-grow: 1;\n",
              "}\n",
              "\n",
              "#sk-container-id-4 div.sk-parallel {\n",
              "  display: flex;\n",
              "  align-items: stretch;\n",
              "  justify-content: center;\n",
              "  background-color: var(--sklearn-color-background);\n",
              "  position: relative;\n",
              "}\n",
              "\n",
              "#sk-container-id-4 div.sk-parallel-item {\n",
              "  display: flex;\n",
              "  flex-direction: column;\n",
              "}\n",
              "\n",
              "#sk-container-id-4 div.sk-parallel-item:first-child::after {\n",
              "  align-self: flex-end;\n",
              "  width: 50%;\n",
              "}\n",
              "\n",
              "#sk-container-id-4 div.sk-parallel-item:last-child::after {\n",
              "  align-self: flex-start;\n",
              "  width: 50%;\n",
              "}\n",
              "\n",
              "#sk-container-id-4 div.sk-parallel-item:only-child::after {\n",
              "  width: 0;\n",
              "}\n",
              "\n",
              "/* Serial-specific style estimator block */\n",
              "\n",
              "#sk-container-id-4 div.sk-serial {\n",
              "  display: flex;\n",
              "  flex-direction: column;\n",
              "  align-items: center;\n",
              "  background-color: var(--sklearn-color-background);\n",
              "  padding-right: 1em;\n",
              "  padding-left: 1em;\n",
              "}\n",
              "\n",
              "\n",
              "/* Toggleable style: style used for estimator/Pipeline/ColumnTransformer box that is\n",
              "clickable and can be expanded/collapsed.\n",
              "- Pipeline and ColumnTransformer use this feature and define the default style\n",
              "- Estimators will overwrite some part of the style using the `sk-estimator` class\n",
              "*/\n",
              "\n",
              "/* Pipeline and ColumnTransformer style (default) */\n",
              "\n",
              "#sk-container-id-4 div.sk-toggleable {\n",
              "  /* Default theme specific background. It is overwritten whether we have a\n",
              "  specific estimator or a Pipeline/ColumnTransformer */\n",
              "  background-color: var(--sklearn-color-background);\n",
              "}\n",
              "\n",
              "/* Toggleable label */\n",
              "#sk-container-id-4 label.sk-toggleable__label {\n",
              "  cursor: pointer;\n",
              "  display: flex;\n",
              "  width: 100%;\n",
              "  margin-bottom: 0;\n",
              "  padding: 0.5em;\n",
              "  box-sizing: border-box;\n",
              "  text-align: center;\n",
              "  align-items: start;\n",
              "  justify-content: space-between;\n",
              "  gap: 0.5em;\n",
              "}\n",
              "\n",
              "#sk-container-id-4 label.sk-toggleable__label .caption {\n",
              "  font-size: 0.6rem;\n",
              "  font-weight: lighter;\n",
              "  color: var(--sklearn-color-text-muted);\n",
              "}\n",
              "\n",
              "#sk-container-id-4 label.sk-toggleable__label-arrow:before {\n",
              "  /* Arrow on the left of the label */\n",
              "  content: \"▸\";\n",
              "  float: left;\n",
              "  margin-right: 0.25em;\n",
              "  color: var(--sklearn-color-icon);\n",
              "}\n",
              "\n",
              "#sk-container-id-4 label.sk-toggleable__label-arrow:hover:before {\n",
              "  color: var(--sklearn-color-text);\n",
              "}\n",
              "\n",
              "/* Toggleable content - dropdown */\n",
              "\n",
              "#sk-container-id-4 div.sk-toggleable__content {\n",
              "  max-height: 0;\n",
              "  max-width: 0;\n",
              "  overflow: hidden;\n",
              "  text-align: left;\n",
              "  /* unfitted */\n",
              "  background-color: var(--sklearn-color-unfitted-level-0);\n",
              "}\n",
              "\n",
              "#sk-container-id-4 div.sk-toggleable__content.fitted {\n",
              "  /* fitted */\n",
              "  background-color: var(--sklearn-color-fitted-level-0);\n",
              "}\n",
              "\n",
              "#sk-container-id-4 div.sk-toggleable__content pre {\n",
              "  margin: 0.2em;\n",
              "  border-radius: 0.25em;\n",
              "  color: var(--sklearn-color-text);\n",
              "  /* unfitted */\n",
              "  background-color: var(--sklearn-color-unfitted-level-0);\n",
              "}\n",
              "\n",
              "#sk-container-id-4 div.sk-toggleable__content.fitted pre {\n",
              "  /* unfitted */\n",
              "  background-color: var(--sklearn-color-fitted-level-0);\n",
              "}\n",
              "\n",
              "#sk-container-id-4 input.sk-toggleable__control:checked~div.sk-toggleable__content {\n",
              "  /* Expand drop-down */\n",
              "  max-height: 200px;\n",
              "  max-width: 100%;\n",
              "  overflow: auto;\n",
              "}\n",
              "\n",
              "#sk-container-id-4 input.sk-toggleable__control:checked~label.sk-toggleable__label-arrow:before {\n",
              "  content: \"▾\";\n",
              "}\n",
              "\n",
              "/* Pipeline/ColumnTransformer-specific style */\n",
              "\n",
              "#sk-container-id-4 div.sk-label input.sk-toggleable__control:checked~label.sk-toggleable__label {\n",
              "  color: var(--sklearn-color-text);\n",
              "  background-color: var(--sklearn-color-unfitted-level-2);\n",
              "}\n",
              "\n",
              "#sk-container-id-4 div.sk-label.fitted input.sk-toggleable__control:checked~label.sk-toggleable__label {\n",
              "  background-color: var(--sklearn-color-fitted-level-2);\n",
              "}\n",
              "\n",
              "/* Estimator-specific style */\n",
              "\n",
              "/* Colorize estimator box */\n",
              "#sk-container-id-4 div.sk-estimator input.sk-toggleable__control:checked~label.sk-toggleable__label {\n",
              "  /* unfitted */\n",
              "  background-color: var(--sklearn-color-unfitted-level-2);\n",
              "}\n",
              "\n",
              "#sk-container-id-4 div.sk-estimator.fitted input.sk-toggleable__control:checked~label.sk-toggleable__label {\n",
              "  /* fitted */\n",
              "  background-color: var(--sklearn-color-fitted-level-2);\n",
              "}\n",
              "\n",
              "#sk-container-id-4 div.sk-label label.sk-toggleable__label,\n",
              "#sk-container-id-4 div.sk-label label {\n",
              "  /* The background is the default theme color */\n",
              "  color: var(--sklearn-color-text-on-default-background);\n",
              "}\n",
              "\n",
              "/* On hover, darken the color of the background */\n",
              "#sk-container-id-4 div.sk-label:hover label.sk-toggleable__label {\n",
              "  color: var(--sklearn-color-text);\n",
              "  background-color: var(--sklearn-color-unfitted-level-2);\n",
              "}\n",
              "\n",
              "/* Label box, darken color on hover, fitted */\n",
              "#sk-container-id-4 div.sk-label.fitted:hover label.sk-toggleable__label.fitted {\n",
              "  color: var(--sklearn-color-text);\n",
              "  background-color: var(--sklearn-color-fitted-level-2);\n",
              "}\n",
              "\n",
              "/* Estimator label */\n",
              "\n",
              "#sk-container-id-4 div.sk-label label {\n",
              "  font-family: monospace;\n",
              "  font-weight: bold;\n",
              "  display: inline-block;\n",
              "  line-height: 1.2em;\n",
              "}\n",
              "\n",
              "#sk-container-id-4 div.sk-label-container {\n",
              "  text-align: center;\n",
              "}\n",
              "\n",
              "/* Estimator-specific */\n",
              "#sk-container-id-4 div.sk-estimator {\n",
              "  font-family: monospace;\n",
              "  border: 1px dotted var(--sklearn-color-border-box);\n",
              "  border-radius: 0.25em;\n",
              "  box-sizing: border-box;\n",
              "  margin-bottom: 0.5em;\n",
              "  /* unfitted */\n",
              "  background-color: var(--sklearn-color-unfitted-level-0);\n",
              "}\n",
              "\n",
              "#sk-container-id-4 div.sk-estimator.fitted {\n",
              "  /* fitted */\n",
              "  background-color: var(--sklearn-color-fitted-level-0);\n",
              "}\n",
              "\n",
              "/* on hover */\n",
              "#sk-container-id-4 div.sk-estimator:hover {\n",
              "  /* unfitted */\n",
              "  background-color: var(--sklearn-color-unfitted-level-2);\n",
              "}\n",
              "\n",
              "#sk-container-id-4 div.sk-estimator.fitted:hover {\n",
              "  /* fitted */\n",
              "  background-color: var(--sklearn-color-fitted-level-2);\n",
              "}\n",
              "\n",
              "/* Specification for estimator info (e.g. \"i\" and \"?\") */\n",
              "\n",
              "/* Common style for \"i\" and \"?\" */\n",
              "\n",
              ".sk-estimator-doc-link,\n",
              "a:link.sk-estimator-doc-link,\n",
              "a:visited.sk-estimator-doc-link {\n",
              "  float: right;\n",
              "  font-size: smaller;\n",
              "  line-height: 1em;\n",
              "  font-family: monospace;\n",
              "  background-color: var(--sklearn-color-background);\n",
              "  border-radius: 1em;\n",
              "  height: 1em;\n",
              "  width: 1em;\n",
              "  text-decoration: none !important;\n",
              "  margin-left: 0.5em;\n",
              "  text-align: center;\n",
              "  /* unfitted */\n",
              "  border: var(--sklearn-color-unfitted-level-1) 1pt solid;\n",
              "  color: var(--sklearn-color-unfitted-level-1);\n",
              "}\n",
              "\n",
              ".sk-estimator-doc-link.fitted,\n",
              "a:link.sk-estimator-doc-link.fitted,\n",
              "a:visited.sk-estimator-doc-link.fitted {\n",
              "  /* fitted */\n",
              "  border: var(--sklearn-color-fitted-level-1) 1pt solid;\n",
              "  color: var(--sklearn-color-fitted-level-1);\n",
              "}\n",
              "\n",
              "/* On hover */\n",
              "div.sk-estimator:hover .sk-estimator-doc-link:hover,\n",
              ".sk-estimator-doc-link:hover,\n",
              "div.sk-label-container:hover .sk-estimator-doc-link:hover,\n",
              ".sk-estimator-doc-link:hover {\n",
              "  /* unfitted */\n",
              "  background-color: var(--sklearn-color-unfitted-level-3);\n",
              "  color: var(--sklearn-color-background);\n",
              "  text-decoration: none;\n",
              "}\n",
              "\n",
              "div.sk-estimator.fitted:hover .sk-estimator-doc-link.fitted:hover,\n",
              ".sk-estimator-doc-link.fitted:hover,\n",
              "div.sk-label-container:hover .sk-estimator-doc-link.fitted:hover,\n",
              ".sk-estimator-doc-link.fitted:hover {\n",
              "  /* fitted */\n",
              "  background-color: var(--sklearn-color-fitted-level-3);\n",
              "  color: var(--sklearn-color-background);\n",
              "  text-decoration: none;\n",
              "}\n",
              "\n",
              "/* Span, style for the box shown on hovering the info icon */\n",
              ".sk-estimator-doc-link span {\n",
              "  display: none;\n",
              "  z-index: 9999;\n",
              "  position: relative;\n",
              "  font-weight: normal;\n",
              "  right: .2ex;\n",
              "  padding: .5ex;\n",
              "  margin: .5ex;\n",
              "  width: min-content;\n",
              "  min-width: 20ex;\n",
              "  max-width: 50ex;\n",
              "  color: var(--sklearn-color-text);\n",
              "  box-shadow: 2pt 2pt 4pt #999;\n",
              "  /* unfitted */\n",
              "  background: var(--sklearn-color-unfitted-level-0);\n",
              "  border: .5pt solid var(--sklearn-color-unfitted-level-3);\n",
              "}\n",
              "\n",
              ".sk-estimator-doc-link.fitted span {\n",
              "  /* fitted */\n",
              "  background: var(--sklearn-color-fitted-level-0);\n",
              "  border: var(--sklearn-color-fitted-level-3);\n",
              "}\n",
              "\n",
              ".sk-estimator-doc-link:hover span {\n",
              "  display: block;\n",
              "}\n",
              "\n",
              "/* \"?\"-specific style due to the `<a>` HTML tag */\n",
              "\n",
              "#sk-container-id-4 a.estimator_doc_link {\n",
              "  float: right;\n",
              "  font-size: 1rem;\n",
              "  line-height: 1em;\n",
              "  font-family: monospace;\n",
              "  background-color: var(--sklearn-color-background);\n",
              "  border-radius: 1rem;\n",
              "  height: 1rem;\n",
              "  width: 1rem;\n",
              "  text-decoration: none;\n",
              "  /* unfitted */\n",
              "  color: var(--sklearn-color-unfitted-level-1);\n",
              "  border: var(--sklearn-color-unfitted-level-1) 1pt solid;\n",
              "}\n",
              "\n",
              "#sk-container-id-4 a.estimator_doc_link.fitted {\n",
              "  /* fitted */\n",
              "  border: var(--sklearn-color-fitted-level-1) 1pt solid;\n",
              "  color: var(--sklearn-color-fitted-level-1);\n",
              "}\n",
              "\n",
              "/* On hover */\n",
              "#sk-container-id-4 a.estimator_doc_link:hover {\n",
              "  /* unfitted */\n",
              "  background-color: var(--sklearn-color-unfitted-level-3);\n",
              "  color: var(--sklearn-color-background);\n",
              "  text-decoration: none;\n",
              "}\n",
              "\n",
              "#sk-container-id-4 a.estimator_doc_link.fitted:hover {\n",
              "  /* fitted */\n",
              "  background-color: var(--sklearn-color-fitted-level-3);\n",
              "}\n",
              "</style><div id=\"sk-container-id-4\" class=\"sk-top-container\"><div class=\"sk-text-repr-fallback\"><pre>RandomForestClassifier(max_depth=20, min_samples_leaf=2, min_samples_split=10,\n",
              "                       n_estimators=50, random_state=42)</pre><b>In a Jupyter environment, please rerun this cell to show the HTML representation or trust the notebook. <br />On GitHub, the HTML representation is unable to render, please try loading this page with nbviewer.org.</b></div><div class=\"sk-container\" hidden><div class=\"sk-item\"><div class=\"sk-estimator fitted sk-toggleable\"><input class=\"sk-toggleable__control sk-hidden--visually\" id=\"sk-estimator-id-6\" type=\"checkbox\" checked><label for=\"sk-estimator-id-6\" class=\"sk-toggleable__label fitted sk-toggleable__label-arrow\"><div><div>RandomForestClassifier</div></div><div><a class=\"sk-estimator-doc-link fitted\" rel=\"noreferrer\" target=\"_blank\" href=\"https://scikit-learn.org/1.6/modules/generated/sklearn.ensemble.RandomForestClassifier.html\">?<span>Documentation for RandomForestClassifier</span></a><span class=\"sk-estimator-doc-link fitted\">i<span>Fitted</span></span></div></label><div class=\"sk-toggleable__content fitted\"><pre>RandomForestClassifier(max_depth=20, min_samples_leaf=2, min_samples_split=10,\n",
              "                       n_estimators=50, random_state=42)</pre></div> </div></div></div></div>"
            ]
          },
          "metadata": {},
          "execution_count": 83
        }
      ]
    },
    {
      "cell_type": "code",
      "source": [
        "# Predict and evaluate on the new set with the best model\n",
        "yhat_rf = best_rf.predict(X_new)\n",
        "\n",
        "# Calculate and print the accuracy on the test set\n",
        "accuracy_rf = accuracy_score(y_new, yhat_rf)\n",
        "print(f\"Test set accuracy for best Random Forest on out of sample balanced data: {round(accuracy_rf, 4)}\")"
      ],
      "metadata": {
        "id": "-XQpYFOaqteN",
        "colab": {
          "base_uri": "https://localhost:8080/"
        },
        "outputId": "88d84904-576b-4dd7-9dd9-30b07f56f515"
      },
      "execution_count": 84,
      "outputs": [
        {
          "output_type": "stream",
          "name": "stdout",
          "text": [
            "Test set accuracy for best Random Forest on out of sample balanced data: 0.8018\n"
          ]
        }
      ]
    },
    {
      "cell_type": "code",
      "source": [
        "param_gb = {\n",
        "    'n_estimators': 250,\n",
        "    'learning_rate': 0.30,\n",
        "    'max_depth': 3,\n",
        "}\n",
        "\n",
        "best_gb = GradientBoostingClassifier(**param_gb)\n",
        "best_gb.fit(X_train, y_train)"
      ],
      "metadata": {
        "colab": {
          "base_uri": "https://localhost:8080/",
          "height": 80
        },
        "id": "7mIJP2BCJ3iv",
        "outputId": "76d81108-35b0-4c52-88ef-d33be3dbcd80"
      },
      "execution_count": 87,
      "outputs": [
        {
          "output_type": "execute_result",
          "data": {
            "text/plain": [
              "GradientBoostingClassifier(learning_rate=0.3, n_estimators=250)"
            ],
            "text/html": [
              "<style>#sk-container-id-5 {\n",
              "  /* Definition of color scheme common for light and dark mode */\n",
              "  --sklearn-color-text: #000;\n",
              "  --sklearn-color-text-muted: #666;\n",
              "  --sklearn-color-line: gray;\n",
              "  /* Definition of color scheme for unfitted estimators */\n",
              "  --sklearn-color-unfitted-level-0: #fff5e6;\n",
              "  --sklearn-color-unfitted-level-1: #f6e4d2;\n",
              "  --sklearn-color-unfitted-level-2: #ffe0b3;\n",
              "  --sklearn-color-unfitted-level-3: chocolate;\n",
              "  /* Definition of color scheme for fitted estimators */\n",
              "  --sklearn-color-fitted-level-0: #f0f8ff;\n",
              "  --sklearn-color-fitted-level-1: #d4ebff;\n",
              "  --sklearn-color-fitted-level-2: #b3dbfd;\n",
              "  --sklearn-color-fitted-level-3: cornflowerblue;\n",
              "\n",
              "  /* Specific color for light theme */\n",
              "  --sklearn-color-text-on-default-background: var(--sg-text-color, var(--theme-code-foreground, var(--jp-content-font-color1, black)));\n",
              "  --sklearn-color-background: var(--sg-background-color, var(--theme-background, var(--jp-layout-color0, white)));\n",
              "  --sklearn-color-border-box: var(--sg-text-color, var(--theme-code-foreground, var(--jp-content-font-color1, black)));\n",
              "  --sklearn-color-icon: #696969;\n",
              "\n",
              "  @media (prefers-color-scheme: dark) {\n",
              "    /* Redefinition of color scheme for dark theme */\n",
              "    --sklearn-color-text-on-default-background: var(--sg-text-color, var(--theme-code-foreground, var(--jp-content-font-color1, white)));\n",
              "    --sklearn-color-background: var(--sg-background-color, var(--theme-background, var(--jp-layout-color0, #111)));\n",
              "    --sklearn-color-border-box: var(--sg-text-color, var(--theme-code-foreground, var(--jp-content-font-color1, white)));\n",
              "    --sklearn-color-icon: #878787;\n",
              "  }\n",
              "}\n",
              "\n",
              "#sk-container-id-5 {\n",
              "  color: var(--sklearn-color-text);\n",
              "}\n",
              "\n",
              "#sk-container-id-5 pre {\n",
              "  padding: 0;\n",
              "}\n",
              "\n",
              "#sk-container-id-5 input.sk-hidden--visually {\n",
              "  border: 0;\n",
              "  clip: rect(1px 1px 1px 1px);\n",
              "  clip: rect(1px, 1px, 1px, 1px);\n",
              "  height: 1px;\n",
              "  margin: -1px;\n",
              "  overflow: hidden;\n",
              "  padding: 0;\n",
              "  position: absolute;\n",
              "  width: 1px;\n",
              "}\n",
              "\n",
              "#sk-container-id-5 div.sk-dashed-wrapped {\n",
              "  border: 1px dashed var(--sklearn-color-line);\n",
              "  margin: 0 0.4em 0.5em 0.4em;\n",
              "  box-sizing: border-box;\n",
              "  padding-bottom: 0.4em;\n",
              "  background-color: var(--sklearn-color-background);\n",
              "}\n",
              "\n",
              "#sk-container-id-5 div.sk-container {\n",
              "  /* jupyter's `normalize.less` sets `[hidden] { display: none; }`\n",
              "     but bootstrap.min.css set `[hidden] { display: none !important; }`\n",
              "     so we also need the `!important` here to be able to override the\n",
              "     default hidden behavior on the sphinx rendered scikit-learn.org.\n",
              "     See: https://github.com/scikit-learn/scikit-learn/issues/21755 */\n",
              "  display: inline-block !important;\n",
              "  position: relative;\n",
              "}\n",
              "\n",
              "#sk-container-id-5 div.sk-text-repr-fallback {\n",
              "  display: none;\n",
              "}\n",
              "\n",
              "div.sk-parallel-item,\n",
              "div.sk-serial,\n",
              "div.sk-item {\n",
              "  /* draw centered vertical line to link estimators */\n",
              "  background-image: linear-gradient(var(--sklearn-color-text-on-default-background), var(--sklearn-color-text-on-default-background));\n",
              "  background-size: 2px 100%;\n",
              "  background-repeat: no-repeat;\n",
              "  background-position: center center;\n",
              "}\n",
              "\n",
              "/* Parallel-specific style estimator block */\n",
              "\n",
              "#sk-container-id-5 div.sk-parallel-item::after {\n",
              "  content: \"\";\n",
              "  width: 100%;\n",
              "  border-bottom: 2px solid var(--sklearn-color-text-on-default-background);\n",
              "  flex-grow: 1;\n",
              "}\n",
              "\n",
              "#sk-container-id-5 div.sk-parallel {\n",
              "  display: flex;\n",
              "  align-items: stretch;\n",
              "  justify-content: center;\n",
              "  background-color: var(--sklearn-color-background);\n",
              "  position: relative;\n",
              "}\n",
              "\n",
              "#sk-container-id-5 div.sk-parallel-item {\n",
              "  display: flex;\n",
              "  flex-direction: column;\n",
              "}\n",
              "\n",
              "#sk-container-id-5 div.sk-parallel-item:first-child::after {\n",
              "  align-self: flex-end;\n",
              "  width: 50%;\n",
              "}\n",
              "\n",
              "#sk-container-id-5 div.sk-parallel-item:last-child::after {\n",
              "  align-self: flex-start;\n",
              "  width: 50%;\n",
              "}\n",
              "\n",
              "#sk-container-id-5 div.sk-parallel-item:only-child::after {\n",
              "  width: 0;\n",
              "}\n",
              "\n",
              "/* Serial-specific style estimator block */\n",
              "\n",
              "#sk-container-id-5 div.sk-serial {\n",
              "  display: flex;\n",
              "  flex-direction: column;\n",
              "  align-items: center;\n",
              "  background-color: var(--sklearn-color-background);\n",
              "  padding-right: 1em;\n",
              "  padding-left: 1em;\n",
              "}\n",
              "\n",
              "\n",
              "/* Toggleable style: style used for estimator/Pipeline/ColumnTransformer box that is\n",
              "clickable and can be expanded/collapsed.\n",
              "- Pipeline and ColumnTransformer use this feature and define the default style\n",
              "- Estimators will overwrite some part of the style using the `sk-estimator` class\n",
              "*/\n",
              "\n",
              "/* Pipeline and ColumnTransformer style (default) */\n",
              "\n",
              "#sk-container-id-5 div.sk-toggleable {\n",
              "  /* Default theme specific background. It is overwritten whether we have a\n",
              "  specific estimator or a Pipeline/ColumnTransformer */\n",
              "  background-color: var(--sklearn-color-background);\n",
              "}\n",
              "\n",
              "/* Toggleable label */\n",
              "#sk-container-id-5 label.sk-toggleable__label {\n",
              "  cursor: pointer;\n",
              "  display: flex;\n",
              "  width: 100%;\n",
              "  margin-bottom: 0;\n",
              "  padding: 0.5em;\n",
              "  box-sizing: border-box;\n",
              "  text-align: center;\n",
              "  align-items: start;\n",
              "  justify-content: space-between;\n",
              "  gap: 0.5em;\n",
              "}\n",
              "\n",
              "#sk-container-id-5 label.sk-toggleable__label .caption {\n",
              "  font-size: 0.6rem;\n",
              "  font-weight: lighter;\n",
              "  color: var(--sklearn-color-text-muted);\n",
              "}\n",
              "\n",
              "#sk-container-id-5 label.sk-toggleable__label-arrow:before {\n",
              "  /* Arrow on the left of the label */\n",
              "  content: \"▸\";\n",
              "  float: left;\n",
              "  margin-right: 0.25em;\n",
              "  color: var(--sklearn-color-icon);\n",
              "}\n",
              "\n",
              "#sk-container-id-5 label.sk-toggleable__label-arrow:hover:before {\n",
              "  color: var(--sklearn-color-text);\n",
              "}\n",
              "\n",
              "/* Toggleable content - dropdown */\n",
              "\n",
              "#sk-container-id-5 div.sk-toggleable__content {\n",
              "  max-height: 0;\n",
              "  max-width: 0;\n",
              "  overflow: hidden;\n",
              "  text-align: left;\n",
              "  /* unfitted */\n",
              "  background-color: var(--sklearn-color-unfitted-level-0);\n",
              "}\n",
              "\n",
              "#sk-container-id-5 div.sk-toggleable__content.fitted {\n",
              "  /* fitted */\n",
              "  background-color: var(--sklearn-color-fitted-level-0);\n",
              "}\n",
              "\n",
              "#sk-container-id-5 div.sk-toggleable__content pre {\n",
              "  margin: 0.2em;\n",
              "  border-radius: 0.25em;\n",
              "  color: var(--sklearn-color-text);\n",
              "  /* unfitted */\n",
              "  background-color: var(--sklearn-color-unfitted-level-0);\n",
              "}\n",
              "\n",
              "#sk-container-id-5 div.sk-toggleable__content.fitted pre {\n",
              "  /* unfitted */\n",
              "  background-color: var(--sklearn-color-fitted-level-0);\n",
              "}\n",
              "\n",
              "#sk-container-id-5 input.sk-toggleable__control:checked~div.sk-toggleable__content {\n",
              "  /* Expand drop-down */\n",
              "  max-height: 200px;\n",
              "  max-width: 100%;\n",
              "  overflow: auto;\n",
              "}\n",
              "\n",
              "#sk-container-id-5 input.sk-toggleable__control:checked~label.sk-toggleable__label-arrow:before {\n",
              "  content: \"▾\";\n",
              "}\n",
              "\n",
              "/* Pipeline/ColumnTransformer-specific style */\n",
              "\n",
              "#sk-container-id-5 div.sk-label input.sk-toggleable__control:checked~label.sk-toggleable__label {\n",
              "  color: var(--sklearn-color-text);\n",
              "  background-color: var(--sklearn-color-unfitted-level-2);\n",
              "}\n",
              "\n",
              "#sk-container-id-5 div.sk-label.fitted input.sk-toggleable__control:checked~label.sk-toggleable__label {\n",
              "  background-color: var(--sklearn-color-fitted-level-2);\n",
              "}\n",
              "\n",
              "/* Estimator-specific style */\n",
              "\n",
              "/* Colorize estimator box */\n",
              "#sk-container-id-5 div.sk-estimator input.sk-toggleable__control:checked~label.sk-toggleable__label {\n",
              "  /* unfitted */\n",
              "  background-color: var(--sklearn-color-unfitted-level-2);\n",
              "}\n",
              "\n",
              "#sk-container-id-5 div.sk-estimator.fitted input.sk-toggleable__control:checked~label.sk-toggleable__label {\n",
              "  /* fitted */\n",
              "  background-color: var(--sklearn-color-fitted-level-2);\n",
              "}\n",
              "\n",
              "#sk-container-id-5 div.sk-label label.sk-toggleable__label,\n",
              "#sk-container-id-5 div.sk-label label {\n",
              "  /* The background is the default theme color */\n",
              "  color: var(--sklearn-color-text-on-default-background);\n",
              "}\n",
              "\n",
              "/* On hover, darken the color of the background */\n",
              "#sk-container-id-5 div.sk-label:hover label.sk-toggleable__label {\n",
              "  color: var(--sklearn-color-text);\n",
              "  background-color: var(--sklearn-color-unfitted-level-2);\n",
              "}\n",
              "\n",
              "/* Label box, darken color on hover, fitted */\n",
              "#sk-container-id-5 div.sk-label.fitted:hover label.sk-toggleable__label.fitted {\n",
              "  color: var(--sklearn-color-text);\n",
              "  background-color: var(--sklearn-color-fitted-level-2);\n",
              "}\n",
              "\n",
              "/* Estimator label */\n",
              "\n",
              "#sk-container-id-5 div.sk-label label {\n",
              "  font-family: monospace;\n",
              "  font-weight: bold;\n",
              "  display: inline-block;\n",
              "  line-height: 1.2em;\n",
              "}\n",
              "\n",
              "#sk-container-id-5 div.sk-label-container {\n",
              "  text-align: center;\n",
              "}\n",
              "\n",
              "/* Estimator-specific */\n",
              "#sk-container-id-5 div.sk-estimator {\n",
              "  font-family: monospace;\n",
              "  border: 1px dotted var(--sklearn-color-border-box);\n",
              "  border-radius: 0.25em;\n",
              "  box-sizing: border-box;\n",
              "  margin-bottom: 0.5em;\n",
              "  /* unfitted */\n",
              "  background-color: var(--sklearn-color-unfitted-level-0);\n",
              "}\n",
              "\n",
              "#sk-container-id-5 div.sk-estimator.fitted {\n",
              "  /* fitted */\n",
              "  background-color: var(--sklearn-color-fitted-level-0);\n",
              "}\n",
              "\n",
              "/* on hover */\n",
              "#sk-container-id-5 div.sk-estimator:hover {\n",
              "  /* unfitted */\n",
              "  background-color: var(--sklearn-color-unfitted-level-2);\n",
              "}\n",
              "\n",
              "#sk-container-id-5 div.sk-estimator.fitted:hover {\n",
              "  /* fitted */\n",
              "  background-color: var(--sklearn-color-fitted-level-2);\n",
              "}\n",
              "\n",
              "/* Specification for estimator info (e.g. \"i\" and \"?\") */\n",
              "\n",
              "/* Common style for \"i\" and \"?\" */\n",
              "\n",
              ".sk-estimator-doc-link,\n",
              "a:link.sk-estimator-doc-link,\n",
              "a:visited.sk-estimator-doc-link {\n",
              "  float: right;\n",
              "  font-size: smaller;\n",
              "  line-height: 1em;\n",
              "  font-family: monospace;\n",
              "  background-color: var(--sklearn-color-background);\n",
              "  border-radius: 1em;\n",
              "  height: 1em;\n",
              "  width: 1em;\n",
              "  text-decoration: none !important;\n",
              "  margin-left: 0.5em;\n",
              "  text-align: center;\n",
              "  /* unfitted */\n",
              "  border: var(--sklearn-color-unfitted-level-1) 1pt solid;\n",
              "  color: var(--sklearn-color-unfitted-level-1);\n",
              "}\n",
              "\n",
              ".sk-estimator-doc-link.fitted,\n",
              "a:link.sk-estimator-doc-link.fitted,\n",
              "a:visited.sk-estimator-doc-link.fitted {\n",
              "  /* fitted */\n",
              "  border: var(--sklearn-color-fitted-level-1) 1pt solid;\n",
              "  color: var(--sklearn-color-fitted-level-1);\n",
              "}\n",
              "\n",
              "/* On hover */\n",
              "div.sk-estimator:hover .sk-estimator-doc-link:hover,\n",
              ".sk-estimator-doc-link:hover,\n",
              "div.sk-label-container:hover .sk-estimator-doc-link:hover,\n",
              ".sk-estimator-doc-link:hover {\n",
              "  /* unfitted */\n",
              "  background-color: var(--sklearn-color-unfitted-level-3);\n",
              "  color: var(--sklearn-color-background);\n",
              "  text-decoration: none;\n",
              "}\n",
              "\n",
              "div.sk-estimator.fitted:hover .sk-estimator-doc-link.fitted:hover,\n",
              ".sk-estimator-doc-link.fitted:hover,\n",
              "div.sk-label-container:hover .sk-estimator-doc-link.fitted:hover,\n",
              ".sk-estimator-doc-link.fitted:hover {\n",
              "  /* fitted */\n",
              "  background-color: var(--sklearn-color-fitted-level-3);\n",
              "  color: var(--sklearn-color-background);\n",
              "  text-decoration: none;\n",
              "}\n",
              "\n",
              "/* Span, style for the box shown on hovering the info icon */\n",
              ".sk-estimator-doc-link span {\n",
              "  display: none;\n",
              "  z-index: 9999;\n",
              "  position: relative;\n",
              "  font-weight: normal;\n",
              "  right: .2ex;\n",
              "  padding: .5ex;\n",
              "  margin: .5ex;\n",
              "  width: min-content;\n",
              "  min-width: 20ex;\n",
              "  max-width: 50ex;\n",
              "  color: var(--sklearn-color-text);\n",
              "  box-shadow: 2pt 2pt 4pt #999;\n",
              "  /* unfitted */\n",
              "  background: var(--sklearn-color-unfitted-level-0);\n",
              "  border: .5pt solid var(--sklearn-color-unfitted-level-3);\n",
              "}\n",
              "\n",
              ".sk-estimator-doc-link.fitted span {\n",
              "  /* fitted */\n",
              "  background: var(--sklearn-color-fitted-level-0);\n",
              "  border: var(--sklearn-color-fitted-level-3);\n",
              "}\n",
              "\n",
              ".sk-estimator-doc-link:hover span {\n",
              "  display: block;\n",
              "}\n",
              "\n",
              "/* \"?\"-specific style due to the `<a>` HTML tag */\n",
              "\n",
              "#sk-container-id-5 a.estimator_doc_link {\n",
              "  float: right;\n",
              "  font-size: 1rem;\n",
              "  line-height: 1em;\n",
              "  font-family: monospace;\n",
              "  background-color: var(--sklearn-color-background);\n",
              "  border-radius: 1rem;\n",
              "  height: 1rem;\n",
              "  width: 1rem;\n",
              "  text-decoration: none;\n",
              "  /* unfitted */\n",
              "  color: var(--sklearn-color-unfitted-level-1);\n",
              "  border: var(--sklearn-color-unfitted-level-1) 1pt solid;\n",
              "}\n",
              "\n",
              "#sk-container-id-5 a.estimator_doc_link.fitted {\n",
              "  /* fitted */\n",
              "  border: var(--sklearn-color-fitted-level-1) 1pt solid;\n",
              "  color: var(--sklearn-color-fitted-level-1);\n",
              "}\n",
              "\n",
              "/* On hover */\n",
              "#sk-container-id-5 a.estimator_doc_link:hover {\n",
              "  /* unfitted */\n",
              "  background-color: var(--sklearn-color-unfitted-level-3);\n",
              "  color: var(--sklearn-color-background);\n",
              "  text-decoration: none;\n",
              "}\n",
              "\n",
              "#sk-container-id-5 a.estimator_doc_link.fitted:hover {\n",
              "  /* fitted */\n",
              "  background-color: var(--sklearn-color-fitted-level-3);\n",
              "}\n",
              "</style><div id=\"sk-container-id-5\" class=\"sk-top-container\"><div class=\"sk-text-repr-fallback\"><pre>GradientBoostingClassifier(learning_rate=0.3, n_estimators=250)</pre><b>In a Jupyter environment, please rerun this cell to show the HTML representation or trust the notebook. <br />On GitHub, the HTML representation is unable to render, please try loading this page with nbviewer.org.</b></div><div class=\"sk-container\" hidden><div class=\"sk-item\"><div class=\"sk-estimator fitted sk-toggleable\"><input class=\"sk-toggleable__control sk-hidden--visually\" id=\"sk-estimator-id-7\" type=\"checkbox\" checked><label for=\"sk-estimator-id-7\" class=\"sk-toggleable__label fitted sk-toggleable__label-arrow\"><div><div>GradientBoostingClassifier</div></div><div><a class=\"sk-estimator-doc-link fitted\" rel=\"noreferrer\" target=\"_blank\" href=\"https://scikit-learn.org/1.6/modules/generated/sklearn.ensemble.GradientBoostingClassifier.html\">?<span>Documentation for GradientBoostingClassifier</span></a><span class=\"sk-estimator-doc-link fitted\">i<span>Fitted</span></span></div></label><div class=\"sk-toggleable__content fitted\"><pre>GradientBoostingClassifier(learning_rate=0.3, n_estimators=250)</pre></div> </div></div></div></div>"
            ]
          },
          "metadata": {},
          "execution_count": 87
        }
      ]
    },
    {
      "cell_type": "code",
      "source": [
        "# Predict and evaluate on the new set with the best model\n",
        "yhat_gb = best_gb.predict(X_new)\n",
        "\n",
        "# Calculate and print the accuracy on the test set\n",
        "accuracy_gb = accuracy_score(y_new, yhat_gb)\n",
        "print(f\"Test set accuracy for best Random Forest on out of sample balanced data: {round(accuracy_gb, 4)}\")"
      ],
      "metadata": {
        "colab": {
          "base_uri": "https://localhost:8080/"
        },
        "id": "59NyuZhdKC1w",
        "outputId": "91495f09-85d4-455e-f390-6c4436c38718"
      },
      "execution_count": 88,
      "outputs": [
        {
          "output_type": "stream",
          "name": "stdout",
          "text": [
            "Test set accuracy for best Random Forest on out of sample balanced data: 0.7562\n"
          ]
        }
      ]
    },
    {
      "cell_type": "markdown",
      "source": [
        "### Ranked Feature Importance"
      ],
      "metadata": {
        "id": "RUyUFyzhSLra"
      }
    },
    {
      "cell_type": "code",
      "source": [
        "scaler = StandardScaler()\n",
        "x_train_std = scaler.fit_transform(X_train)\n",
        "x_test_std = scaler.transform(X_test)\n",
        "\n",
        "rf = RandomForestClassifier()\n",
        "\n",
        "param_grid = {\n",
        "    'n_estimators': [50],\n",
        "    'max_depth': [10, 20, 30],\n",
        "    'min_samples_split': [10],\n",
        "    'min_samples_leaf': [1, 2, 4],\n",
        "    'bootstrap': [True]\n",
        "}\n",
        "\n",
        "grid_search_rf = GridSearchCV(estimator=rf, param_grid=param_grid, cv=5, scoring='accuracy', verbose=1, n_jobs=-1)\n",
        "grid_search_rf.fit(x_train_std, y_train)\n",
        "\n",
        "best_rf = grid_search_rf.best_estimator_\n",
        "\n",
        "importances = best_rf.feature_importances_\n",
        "features = X.columns\n",
        "feature_importance_df = pd.DataFrame({'Feature': features, 'Importance': importances})\n",
        "feature_importance_df = feature_importance_df.sort_values(by='Importance', ascending=False).head(10)\n",
        "\n",
        "plt.figure(figsize=(10, 6))\n",
        "sns.barplot(x='Importance', y='Feature', data=feature_importance_df, palette='viridis')\n",
        "plt.title('Top 10 Feature Importances from Random Forest', fontsize=16)\n",
        "plt.xlabel('Importance Score')\n",
        "plt.ylabel('Feature')\n",
        "plt.grid(axis='x', linestyle='--', alpha=0.7)\n",
        "plt.show()"
      ],
      "metadata": {
        "id": "09Nth6N3SKns",
        "colab": {
          "base_uri": "https://localhost:8080/",
          "height": 690
        },
        "outputId": "8b45d89a-c2d4-4439-bed4-bcb1f3a0ab21"
      },
      "execution_count": null,
      "outputs": [
        {
          "output_type": "stream",
          "name": "stdout",
          "text": [
            "Fitting 5 folds for each of 9 candidates, totalling 45 fits\n"
          ]
        },
        {
          "output_type": "stream",
          "name": "stderr",
          "text": [
            "<ipython-input-45-c0471ed7dca0>:31: FutureWarning: \n",
            "\n",
            "Passing `palette` without assigning `hue` is deprecated and will be removed in v0.14.0. Assign the `y` variable to `hue` and set `legend=False` for the same effect.\n",
            "\n",
            "  sns.barplot(x='Importance', y='Feature', data=feature_importance_df, palette='viridis')\n"
          ]
        },
        {
          "output_type": "display_data",
          "data": {
            "text/plain": [
              "<Figure size 1000x600 with 1 Axes>"
            ],
            "image/png": "[encoded data removed]"
          },
          "metadata": {}
        }
      ]
    },
    {
      "cell_type": "code",
      "source": [
        "importances = best_rf.feature_importances_\n",
        "features = X.columns\n",
        "\n",
        "feature_importance_df = pd.DataFrame({'Feature': features, 'Importance': importances})\n",
        "# Sort by ascending importance\n",
        "feature_importance_df = feature_importance_df.sort_values(by='Importance', ascending=True)\n",
        "\n",
        "# Take the bottom 10\n",
        "least_important_features = feature_importance_df.head(10)\n",
        "\n",
        "plt.figure(figsize=(10, 6))\n",
        "sns.barplot(x='Importance', y='Feature', data=least_important_features, palette='coolwarm')\n",
        "plt.title('10 Least Important Features from Random Forest', fontsize=17)\n",
        "plt.xlabel('Feature Importance Score', fontsize=16)\n",
        "plt.ylabel('Features', fontsize=16)\n",
        "plt.xticks(fontsize=10)\n",
        "plt.yticks(fontsize=10)\n",
        "plt.grid(axis='x', linestyle='--', alpha=0.7)\n",
        "plt.show()"
      ],
      "metadata": {
        "id": "CKrt3FGvFN3z",
        "colab": {
          "base_uri": "https://localhost:8080/",
          "height": 662
        },
        "outputId": "7f39d1b8-f57f-4a00-e855-91d1a2c245ab"
      },
      "execution_count": 46,
      "outputs": [
        {
          "output_type": "stream",
          "name": "stderr",
          "text": [
            "<ipython-input-46-55e3d5b336c1>:14: FutureWarning: \n",
            "\n",
            "Passing `palette` without assigning `hue` is deprecated and will be removed in v0.14.0. Assign the `y` variable to `hue` and set `legend=False` for the same effect.\n",
            "\n",
            "  sns.barplot(x='Importance', y='Feature', data=least_important_features, palette='coolwarm')\n"
          ]
        },
        {
          "output_type": "display_data",
          "data": {
            "text/plain": [
              "<Figure size 1000x600 with 1 Axes>"
            ],
            "image/png": "[encoded data removed]"
          },
          "metadata": {}
        }
      ]
    },
    {
      "cell_type": "code",
      "source": [
        "# Feature importance from Gradient Boosting\n",
        "gb_importances = best_model.feature_importances_\n",
        "\n",
        "# Create a DataFrame\n",
        "gb_feature_importance_df = pd.DataFrame({\n",
        "    'Feature': X.columns,\n",
        "    'Importance': gb_importances\n",
        "})\n",
        "\n",
        "# Sort by descending importance\n",
        "gb_feature_importance_df = gb_feature_importance_df.sort_values(by='Importance', ascending=False)\n",
        "\n",
        "# Take the Top 10\n",
        "top10_gb_features = gb_feature_importance_df.head(10)\n",
        "\n",
        "plt.figure(figsize=(10, 6))\n",
        "sns.barplot(x='Importance', y='Feature', data=top10_gb_features, palette='viridis')\n",
        "plt.title('Top 10 Feature Importances from Gradient Boosting', fontsize=17)\n",
        "plt.xlabel('Feature Importance Score', fontsize=15)\n",
        "plt.ylabel('Features', fontsize=15)\n",
        "plt.xticks(fontsize=10)\n",
        "plt.yticks(fontsize=10)\n",
        "plt.grid(axis='x', linestyle='--', alpha=0.7)\n",
        "plt.show()"
      ],
      "metadata": {
        "id": "T1c9WA1DFO6-",
        "colab": {
          "base_uri": "https://localhost:8080/",
          "height": 662
        },
        "outputId": "7a1b88c9-5d9c-441f-84ed-ad58c74619e6"
      },
      "execution_count": 47,
      "outputs": [
        {
          "output_type": "stream",
          "name": "stderr",
          "text": [
            "<ipython-input-47-b78f58a2ef68>:18: FutureWarning: \n",
            "\n",
            "Passing `palette` without assigning `hue` is deprecated and will be removed in v0.14.0. Assign the `y` variable to `hue` and set `legend=False` for the same effect.\n",
            "\n",
            "  sns.barplot(x='Importance', y='Feature', data=top10_gb_features, palette='viridis')\n"
          ]
        },
        {
          "output_type": "display_data",
          "data": {
            "text/plain": [
              "<Figure size 1000x600 with 1 Axes>"
            ],
            "image/png": "[encoded data removed]"
          },
          "metadata": {}
        }
      ]
    },
    {
      "cell_type": "code",
      "source": [
        "# Sort by ascending importance\n",
        "least10_gb_features = gb_feature_importance_df.sort_values(by='Importance', ascending=True).head(10)\n",
        "\n",
        "plt.figure(figsize=(10, 6))\n",
        "sns.barplot(x='Importance', y='Feature', data=least10_gb_features, palette='coolwarm')\n",
        "plt.title('10 Least Important Features from Gradient Boosting', fontsize=20)\n",
        "plt.xlabel('Feature Importance Score', fontsize=16)\n",
        "plt.ylabel('Features', fontsize=16)\n",
        "plt.xticks(fontsize=12)\n",
        "plt.yticks(fontsize=12)\n",
        "plt.grid(axis='x', linestyle='--', alpha=0.7)\n",
        "plt.show()"
      ],
      "metadata": {
        "id": "_YRGASydFRc_",
        "colab": {
          "base_uri": "https://localhost:8080/",
          "height": 669
        },
        "outputId": "2daf9c49-ef30-4e9d-84df-19c6f2aaa2d1"
      },
      "execution_count": 48,
      "outputs": [
        {
          "output_type": "stream",
          "name": "stderr",
          "text": [
            "<ipython-input-48-af0891fb989a>:6: FutureWarning: \n",
            "\n",
            "Passing `palette` without assigning `hue` is deprecated and will be removed in v0.14.0. Assign the `y` variable to `hue` and set `legend=False` for the same effect.\n",
            "\n",
            "  sns.barplot(x='Importance', y='Feature', data=least10_gb_features, palette='coolwarm')\n"
          ]
        },
        {
          "output_type": "display_data",
          "data": {
            "text/plain": [
              "<Figure size 1000x600 with 1 Axes>"
            ],
            "image/png": "[encoded data removed]"
          },
          "metadata": {}
        }
      ]
    }
  ],
  "metadata": {
    "colab": {
      "provenance": []
    },
    "kernelspec": {
      "display_name": "Python 3",
      "name": "python3"
    },
    "language_info": {
      "name": "python"
    }
  },
  "nbformat": 4,
  "nbformat_minor": 0
}
